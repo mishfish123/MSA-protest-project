{
 "cells": [
  {
   "cell_type": "markdown",
   "metadata": {},
   "source": [
    "# Automating protest categories: My MSA project "
   ]
  },
  {
   "cell_type": "markdown",
   "metadata": {},
   "source": [
    "To satisfy the requirements to complete the Microsoft student accelerator program, I will be creating an machine algorithm which categorises protest descriptions into 7 main categories. The dataset I am using is from the mass mobility project. https://dataverse.harvard.edu/dataverse/MMdata "
   ]
  },
  {
   "cell_type": "markdown",
   "metadata": {},
   "source": [
    "# Data pre-processing "
   ]
  },
  {
   "cell_type": "markdown",
   "metadata": {},
   "source": [
    "I will be simplifying the protest database, acquired from the mass mobility project, into a simple 3- column vector one consisting, their protest ID, number of protests available, a label from 1 to 7, and second and lastly, the description of the event. \n",
    "\n",
    "This is done by first converting the strata database into something that can be manipulated by pandas. Then simply dropping the unwanted columns. "
   ]
  },
  {
   "cell_type": "code",
   "execution_count": 11,
   "metadata": {},
   "outputs": [
    {
     "name": "stderr",
     "output_type": "stream",
     "text": [
      "/Users/michellewong/opt/anaconda3/lib/python3.7/site-packages/pandas/io/stata.py:1409: UnicodeWarning: \n",
      "One or more strings in the dta file could not be decoded using utf-8, and\n",
      "so the fallback encoding of latin-1 is being used.  This can happen when a file\n",
      "has been incorrectly encoded by Stata or some other software. You should verify\n",
      "the string values returned are correct.\n",
      "  warnings.warn(msg, UnicodeWarning)\n"
     ]
    },
    {
     "name": "stdout",
     "output_type": "stream",
     "text": [
      "['id', 'country', 'ccode', 'year', 'region', 'protest', 'protestnumber', 'startday', 'startmonth', 'startyear', 'endday', 'endmonth', 'endyear', 'protesterviolence', 'location', 'participants_category', 'participants', 'protesteridentity', 'protesterdemand1', 'protesterdemand2', 'protesterdemand3', 'protesterdemand4', 'stateresponse1', 'stateresponse2', 'stateresponse3', 'stateresponse4', 'stateresponse5', 'stateresponse6', 'stateresponse7', 'sources', 'notes']\n",
      "                 id  protestnumber             protesterdemand1  \\\n",
      "0      2.019900e+08            1.0  political behavior, process   \n",
      "1      2.019900e+08            2.0  political behavior, process   \n",
      "2      2.019900e+08            3.0  political behavior, process   \n",
      "3      2.019900e+08            4.0              land farm issue   \n",
      "4      2.019900e+08            5.0  political behavior, process   \n",
      "...             ...            ...                          ...   \n",
      "15565  9.102016e+09            1.0        removal of politician   \n",
      "15566  9.102017e+09            1.0  political behavior, process   \n",
      "15567  9.102017e+09            2.0  political behavior, process   \n",
      "15568  9.102017e+09            3.0  political behavior, process   \n",
      "15569  9.102018e+09            0.0                                \n",
      "\n",
      "         protesterdemand2 protesterdemand3 protesterdemand4  \\\n",
      "0      labor wage dispute                                     \n",
      "1                                                             \n",
      "2                                                             \n",
      "3                                                             \n",
      "4                                                             \n",
      "...                   ...              ...              ...   \n",
      "15565                                                         \n",
      "15566     land farm issue                                     \n",
      "15567                                                         \n",
      "15568                                                         \n",
      "15569                                                         \n",
      "\n",
      "                                                   notes  \n",
      "0       Canada s railway passenger system was finally...  \n",
      "1      protestors were only identified as  young peop...  \n",
      "2       THE Queen, after calling on Canadians to rema...  \n",
      "3       Canada s federal government has agreed to acq...  \n",
      "4      Protests were directed against the state due t...  \n",
      "...                                                  ...  \n",
      "15565  Police in Papua New Guinea fired gunshots Wedn...  \n",
      "15566  The Bougainville government has enacted an ind...  \n",
      "15567  Peter O Neill has been reappointed as prime mi...  \n",
      "15568  Refugees on Manus Island were braced for poten...  \n",
      "15569                                                     \n",
      "\n",
      "[15570 rows x 7 columns]\n"
     ]
    }
   ],
   "source": [
    "import pandas \n",
    "dataset = pandas.read_stata(\"mmALL_020619_v15.dta\")\n",
    "all_columns = []\n",
    "for col in dataset.columns: \n",
    "    all_columns.append(col)\n",
    "print(all_columns)\n",
    "for name in all_columns:\n",
    "    if name == 'id' or name == 'protestnumber' or name == 'notes':\n",
    "        continue\n",
    "    if \"protesterdemand\" in name:\n",
    "        continue \n",
    "    else: \n",
    "        dataset = dataset.drop(columns =[name])\n",
    "print(dataset)\n",
    "    \n",
    "    "
   ]
  },
  {
   "cell_type": "code",
   "execution_count": null,
   "metadata": {},
   "outputs": [],
   "source": []
  }
 ],
 "metadata": {
  "kernelspec": {
   "display_name": "Python 3",
   "language": "python",
   "name": "python3"
  },
  "language_info": {
   "codemirror_mode": {
    "name": "ipython",
    "version": 3
   },
   "file_extension": ".py",
   "mimetype": "text/x-python",
   "name": "python",
   "nbconvert_exporter": "python",
   "pygments_lexer": "ipython3",
   "version": "3.7.6"
  }
 },
 "nbformat": 4,
 "nbformat_minor": 4
}
