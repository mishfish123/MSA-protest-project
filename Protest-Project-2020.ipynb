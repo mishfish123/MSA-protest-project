{
 "cells": [
  {
   "cell_type": "markdown",
   "metadata": {},
   "source": [
    "# Automating protest categories: My MSA project "
   ]
  },
  {
   "cell_type": "markdown",
   "metadata": {},
   "source": [
    "To satisfy the requirements to complete the Microsoft student accelerator program, I will be creating an machine algorithm which categorises protest descriptions into 7 main categories. The dataset I am using is from the mass mobility project. https://dataverse.harvard.edu/dataverse/MMdata "
   ]
  },
  {
   "cell_type": "markdown",
   "metadata": {},
   "source": [
    "# Data pre-processing "
   ]
  },
  {
   "cell_type": "markdown",
   "metadata": {},
   "source": [
    "I will be simplifying the protest database, acquired from the mass mobility project, into a simple 3- column vector one consisting, their protest ID, number of protests available, a label from 1 to 7, and second and lastly, the description of the event. \n",
    "\n",
    "This is done by first converting the strata database into something that can be manipulated by pandas. Then simply dropping the unwanted columns. "
   ]
  },
  {
   "cell_type": "code",
   "execution_count": 32,
   "metadata": {},
   "outputs": [
    {
     "name": "stderr",
     "output_type": "stream",
     "text": [
      "/Users/michellewong/opt/anaconda3/lib/python3.7/site-packages/pandas/io/stata.py:1409: UnicodeWarning: \n",
      "One or more strings in the dta file could not be decoded using utf-8, and\n",
      "so the fallback encoding of latin-1 is being used.  This can happen when a file\n",
      "has been incorrectly encoded by Stata or some other software. You should verify\n",
      "the string values returned are correct.\n",
      "  warnings.warn(msg, UnicodeWarning)\n"
     ]
    },
    {
     "name": "stdout",
     "output_type": "stream",
     "text": [
      "['id', 'country', 'ccode', 'year', 'region', 'protest', 'protestnumber', 'startday', 'startmonth', 'startyear', 'endday', 'endmonth', 'endyear', 'protesterviolence', 'location', 'participants_category', 'participants', 'protesteridentity', 'protesterdemand1', 'protesterdemand2', 'protesterdemand3', 'protesterdemand4', 'stateresponse1', 'stateresponse2', 'stateresponse3', 'stateresponse4', 'stateresponse5', 'stateresponse6', 'stateresponse7', 'sources', 'notes']\n",
      "                 id  protestnumber             protesterdemand1  \\\n",
      "0      2.019900e+08            1.0  political behavior, process   \n",
      "1      2.019900e+08            2.0  political behavior, process   \n",
      "2      2.019900e+08            3.0  political behavior, process   \n",
      "3      2.019900e+08            4.0              land farm issue   \n",
      "4      2.019900e+08            5.0  political behavior, process   \n",
      "...             ...            ...                          ...   \n",
      "15565  9.102016e+09            1.0        removal of politician   \n",
      "15566  9.102017e+09            1.0  political behavior, process   \n",
      "15567  9.102017e+09            2.0  political behavior, process   \n",
      "15568  9.102017e+09            3.0  political behavior, process   \n",
      "15569  9.102018e+09            0.0                                \n",
      "\n",
      "         protesterdemand2 protesterdemand3 protesterdemand4  \\\n",
      "0      labor wage dispute                                     \n",
      "1                                                             \n",
      "2                                                             \n",
      "3                                                             \n",
      "4                                                             \n",
      "...                   ...              ...              ...   \n",
      "15565                                                         \n",
      "15566     land farm issue                                     \n",
      "15567                                                         \n",
      "15568                                                         \n",
      "15569                                                         \n",
      "\n",
      "                                                   notes  \n",
      "0       Canada s railway passenger system was finally...  \n",
      "1      protestors were only identified as  young peop...  \n",
      "2       THE Queen, after calling on Canadians to rema...  \n",
      "3       Canada s federal government has agreed to acq...  \n",
      "4      Protests were directed against the state due t...  \n",
      "...                                                  ...  \n",
      "15565  Police in Papua New Guinea fired gunshots Wedn...  \n",
      "15566  The Bougainville government has enacted an ind...  \n",
      "15567  Peter O Neill has been reappointed as prime mi...  \n",
      "15568  Refugees on Manus Island were braced for poten...  \n",
      "15569                                                     \n",
      "\n",
      "[15570 rows x 7 columns]\n",
      "(15570, 7)\n",
      "(13180, 7)\n",
      "                 id  protestnumber             protesterdemand1  \\\n",
      "1      2.019900e+08            2.0  political behavior, process   \n",
      "2      2.019900e+08            3.0  political behavior, process   \n",
      "3      2.019900e+08            4.0              land farm issue   \n",
      "4      2.019900e+08            5.0  political behavior, process   \n",
      "5      2.019900e+08            6.0             police brutality   \n",
      "...             ...            ...                          ...   \n",
      "15564  9.102015e+09            0.0                                \n",
      "15565  9.102016e+09            1.0        removal of politician   \n",
      "15567  9.102017e+09            2.0  political behavior, process   \n",
      "15568  9.102017e+09            3.0  political behavior, process   \n",
      "15569  9.102018e+09            0.0                                \n",
      "\n",
      "      protesterdemand2 protesterdemand3 protesterdemand4  \\\n",
      "1                                                          \n",
      "2                                                          \n",
      "3                                                          \n",
      "4                                                          \n",
      "5                                                          \n",
      "...                ...              ...              ...   \n",
      "15564                                                      \n",
      "15565                                                      \n",
      "15567                                                      \n",
      "15568                                                      \n",
      "15569                                                      \n",
      "\n",
      "                                                   notes  \n",
      "1      protestors were only identified as  young peop...  \n",
      "2       THE Queen, after calling on Canadians to rema...  \n",
      "3       Canada s federal government has agreed to acq...  \n",
      "4      Protests were directed against the state due t...  \n",
      "5       Canadian army troops today fired tear gas int...  \n",
      "...                                                  ...  \n",
      "15564                                                     \n",
      "15565  Police in Papua New Guinea fired gunshots Wedn...  \n",
      "15567  Peter O Neill has been reappointed as prime mi...  \n",
      "15568  Refugees on Manus Island were braced for poten...  \n",
      "15569                                                     \n",
      "\n",
      "[13180 rows x 7 columns]\n",
      "                 id  protestnumber             protesterdemand1  \\\n",
      "1      2.019900e+08            2.0  political behavior, process   \n",
      "2      2.019900e+08            3.0  political behavior, process   \n",
      "3      2.019900e+08            4.0              land farm issue   \n",
      "4      2.019900e+08            5.0  political behavior, process   \n",
      "5      2.019900e+08            6.0             police brutality   \n",
      "...             ...            ...                          ...   \n",
      "15564  9.102015e+09            0.0                                \n",
      "15565  9.102016e+09            1.0        removal of politician   \n",
      "15567  9.102017e+09            2.0  political behavior, process   \n",
      "15568  9.102017e+09            3.0  political behavior, process   \n",
      "15569  9.102018e+09            0.0                                \n",
      "\n",
      "                                                   notes  \n",
      "1      protestors were only identified as  young peop...  \n",
      "2       THE Queen, after calling on Canadians to rema...  \n",
      "3       Canada s federal government has agreed to acq...  \n",
      "4      Protests were directed against the state due t...  \n",
      "5       Canadian army troops today fired tear gas int...  \n",
      "...                                                  ...  \n",
      "15564                                                     \n",
      "15565  Police in Papua New Guinea fired gunshots Wedn...  \n",
      "15567  Peter O Neill has been reappointed as prime mi...  \n",
      "15568  Refugees on Manus Island were braced for poten...  \n",
      "15569                                                     \n",
      "\n",
      "[13180 rows x 4 columns]\n"
     ]
    }
   ],
   "source": [
    "import pandas \n",
    "dataset = pandas.read_stata(\"mmALL_020619_v15.dta\")\n",
    "all_columns = []\n",
    "for col in dataset.columns: \n",
    "    all_columns.append(col)\n",
    "print(all_columns)\n",
    "for name in all_columns:\n",
    "    if name == 'id' or name == 'protestnumber' or name == 'notes':\n",
    "        continue\n",
    "    if \"protesterdemand\" in name:\n",
    "        continue \n",
    "    else: \n",
    "        dataset = dataset.drop(columns =[name])\n",
    "print(dataset)\n",
    "print(dataset.shape)\n",
    "dataset = dataset[dataset.protesterdemand2 == \"\"]\n",
    "print(dataset.shape)\n",
    "print(dataset)\n",
    "for name in all_columns:\n",
    "    if \"protesterdemand\" in name:\n",
    "        if name == \"protesterdemand1\":\n",
    "            continue\n",
    "        else: \n",
    "            dataset = dataset.drop(columns =[name])\n",
    "print(dataset)\n",
    "\n",
    "\n",
    "\n",
    "for col, row in dataset.iterrows(): \n",
    "    if row['protesterdemand2'] not in demands:\n",
    "        demands.append(row['protesterdemand2'])\n",
    "    if row['protesterdemand2'] != \"\":\n",
    "        numbers += 1\n",
    "        dataset.drop(row, inplace=True)"
   ]
  },
  {
   "cell_type": "code",
   "execution_count": 4,
   "metadata": {},
   "outputs": [
    {
     "name": "stderr",
     "output_type": "stream",
     "text": [
      "/Users/michellewong/opt/anaconda3/lib/python3.7/site-packages/pandas/io/stata.py:1409: UnicodeWarning: \n",
      "One or more strings in the dta file could not be decoded using utf-8, and\n",
      "so the fallback encoding of latin-1 is being used.  This can happen when a file\n",
      "has been incorrectly encoded by Stata or some other software. You should verify\n",
      "the string values returned are correct.\n",
      "  warnings.warn(msg, UnicodeWarning)\n"
     ]
    },
    {
     "name": "stdout",
     "output_type": "stream",
     "text": [
      "['id', 'country', 'ccode', 'year', 'region', 'protest', 'protestnumber', 'startday', 'startmonth', 'startyear', 'endday', 'endmonth', 'endyear', 'protesterviolence', 'location', 'participants_category', 'participants', 'protesteridentity', 'protesterdemand1', 'protesterdemand2', 'protesterdemand3', 'protesterdemand4', 'stateresponse1', 'stateresponse2', 'stateresponse3', 'stateresponse4', 'stateresponse5', 'stateresponse6', 'stateresponse7', 'sources', 'notes']\n",
      "                  protesterdemand1\n",
      "0      political behavior, process\n",
      "1      political behavior, process\n",
      "2      political behavior, process\n",
      "3                  land farm issue\n",
      "4      political behavior, process\n",
      "...                            ...\n",
      "15565        removal of politician\n",
      "15566  political behavior, process\n",
      "15567  political behavior, process\n",
      "15568  political behavior, process\n",
      "15569                             \n",
      "\n",
      "[15570 rows x 1 columns]\n",
      "8\n",
      "['political behavior, process', 'land farm issue', 'police brutality', 'labor wage dispute', 'price increases, tax policy', '', 'social restrictions', 'removal of politician']\n"
     ]
    }
   ],
   "source": [
    "dataset = pandas.read_stata(\"mmALL_020619_v15.dta\")\n",
    "all_columns = []\n",
    "for col in dataset.columns: \n",
    "    all_columns.append(col)\n",
    "print(all_columns)\n",
    "for name in all_columns:\n",
    "    if name == \"protesterdemand1\":\n",
    "        continue \n",
    "    else: \n",
    "        dataset = dataset.drop(columns =[name])\n",
    "print(dataset)\n",
    "demands = []\n",
    "for col, row in dataset.iterrows(): \n",
    "    if row['protesterdemand1'] not in demands:\n",
    "        demands.append(row['protesterdemand1'])\n",
    "print(len(demands))\n",
    "print(demands)\n",
    "\n",
    "\n"
   ]
  },
  {
   "cell_type": "code",
   "execution_count": null,
   "metadata": {},
   "outputs": [],
   "source": [
    "dataset = pandas.read_stata(\"mmALL_020619_v15.dta\")\n",
    "all_columns = []\n",
    "for col in dataset.columns: \n",
    "    all_columns.append(col)\n",
    "for name in all_columns:\n",
    "    if name == \"protesterdemand2\":\n",
    "        continue \n",
    "    else: \n",
    "        dataset = dataset.drop(columns =[name])\n",
    "print(dataset)\n",
    "demands = []\n",
    "numbers = 0\n",
    "for col, row in dataset.iterrows(): \n",
    "    if row['protesterdemand2'] not in demands:\n",
    "        demands.append(row['protesterdemand2'])\n",
    "    if row['protesterdemand2'] != \"\":\n",
    "        numbers += 1\n",
    "        dataset.drop(row, inplace=True)\n",
    "    \n",
    "print(len(demands))\n",
    "print(demands)\n",
    "print(numbers)"
   ]
  },
  {
   "cell_type": "markdown",
   "metadata": {},
   "source": [
    "Therefore , there is at least 8*8*8*7 possibilities , which is not entirely impossible, therefore to make things simplier for the project I deleted all protest which had more than 1 protester demands, making the classification process less abstract. All together this meant removing only 2390 in the data set. "
   ]
  },
  {
   "cell_type": "code",
   "execution_count": 5,
   "metadata": {},
   "outputs": [
    {
     "name": "stderr",
     "output_type": "stream",
     "text": [
      "/Users/michellewong/opt/anaconda3/lib/python3.7/site-packages/pandas/io/stata.py:1409: UnicodeWarning: \n",
      "One or more strings in the dta file could not be decoded using utf-8, and\n",
      "so the fallback encoding of latin-1 is being used.  This can happen when a file\n",
      "has been incorrectly encoded by Stata or some other software. You should verify\n",
      "the string values returned are correct.\n",
      "  warnings.warn(msg, UnicodeWarning)\n"
     ]
    },
    {
     "name": "stdout",
     "output_type": "stream",
     "text": [
      "['id', 'country', 'ccode', 'year', 'region', 'protest', 'protestnumber', 'startday', 'startmonth', 'startyear', 'endday', 'endmonth', 'endyear', 'protesterviolence', 'location', 'participants_category', 'participants', 'protesteridentity', 'protesterdemand1', 'protesterdemand2', 'protesterdemand3', 'protesterdemand4', 'stateresponse1', 'stateresponse2', 'stateresponse3', 'stateresponse4', 'stateresponse5', 'stateresponse6', 'stateresponse7', 'sources', 'notes']\n",
      "                 id  protestnumber             protesterdemand1  \\\n",
      "0      2.019900e+08            1.0  political behavior, process   \n",
      "1      2.019900e+08            2.0  political behavior, process   \n",
      "2      2.019900e+08            3.0  political behavior, process   \n",
      "3      2.019900e+08            4.0              land farm issue   \n",
      "4      2.019900e+08            5.0  political behavior, process   \n",
      "...             ...            ...                          ...   \n",
      "15565  9.102016e+09            1.0        removal of politician   \n",
      "15566  9.102017e+09            1.0  political behavior, process   \n",
      "15567  9.102017e+09            2.0  political behavior, process   \n",
      "15568  9.102017e+09            3.0  political behavior, process   \n",
      "15569  9.102018e+09            0.0                                \n",
      "\n",
      "         protesterdemand2 protesterdemand3 protesterdemand4  \\\n",
      "0      labor wage dispute                                     \n",
      "1                                                             \n",
      "2                                                             \n",
      "3                                                             \n",
      "4                                                             \n",
      "...                   ...              ...              ...   \n",
      "15565                                                         \n",
      "15566     land farm issue                                     \n",
      "15567                                                         \n",
      "15568                                                         \n",
      "15569                                                         \n",
      "\n",
      "                                                   notes  \n",
      "0       Canada s railway passenger system was finally...  \n",
      "1      protestors were only identified as  young peop...  \n",
      "2       THE Queen, after calling on Canadians to rema...  \n",
      "3       Canada s federal government has agreed to acq...  \n",
      "4      Protests were directed against the state due t...  \n",
      "...                                                  ...  \n",
      "15565  Police in Papua New Guinea fired gunshots Wedn...  \n",
      "15566  The Bougainville government has enacted an ind...  \n",
      "15567  Peter O Neill has been reappointed as prime mi...  \n",
      "15568  Refugees on Manus Island were braced for poten...  \n",
      "15569                                                     \n",
      "\n",
      "[15570 rows x 7 columns]\n",
      "(15570, 7)\n",
      "(13180, 7)\n",
      "                 id  protestnumber             protesterdemand1  \\\n",
      "1      2.019900e+08            2.0  political behavior, process   \n",
      "2      2.019900e+08            3.0  political behavior, process   \n",
      "3      2.019900e+08            4.0              land farm issue   \n",
      "4      2.019900e+08            5.0  political behavior, process   \n",
      "5      2.019900e+08            6.0             police brutality   \n",
      "...             ...            ...                          ...   \n",
      "15564  9.102015e+09            0.0                                \n",
      "15565  9.102016e+09            1.0        removal of politician   \n",
      "15567  9.102017e+09            2.0  political behavior, process   \n",
      "15568  9.102017e+09            3.0  political behavior, process   \n",
      "15569  9.102018e+09            0.0                                \n",
      "\n",
      "      protesterdemand2 protesterdemand3 protesterdemand4  \\\n",
      "1                                                          \n",
      "2                                                          \n",
      "3                                                          \n",
      "4                                                          \n",
      "5                                                          \n",
      "...                ...              ...              ...   \n",
      "15564                                                      \n",
      "15565                                                      \n",
      "15567                                                      \n",
      "15568                                                      \n",
      "15569                                                      \n",
      "\n",
      "                                                   notes  \n",
      "1      protestors were only identified as  young peop...  \n",
      "2       THE Queen, after calling on Canadians to rema...  \n",
      "3       Canada s federal government has agreed to acq...  \n",
      "4      Protests were directed against the state due t...  \n",
      "5       Canadian army troops today fired tear gas int...  \n",
      "...                                                  ...  \n",
      "15564                                                     \n",
      "15565  Police in Papua New Guinea fired gunshots Wedn...  \n",
      "15567  Peter O Neill has been reappointed as prime mi...  \n",
      "15568  Refugees on Manus Island were braced for poten...  \n",
      "15569                                                     \n",
      "\n",
      "[13180 rows x 7 columns]\n",
      "                  protesterdemand1  \\\n",
      "1      political behavior, process   \n",
      "2      political behavior, process   \n",
      "3                  land farm issue   \n",
      "4      political behavior, process   \n",
      "5                 police brutality   \n",
      "...                            ...   \n",
      "15564                                \n",
      "15565        removal of politician   \n",
      "15567  political behavior, process   \n",
      "15568  political behavior, process   \n",
      "15569                                \n",
      "\n",
      "                                                   notes  \n",
      "1      protestors were only identified as  young peop...  \n",
      "2       THE Queen, after calling on Canadians to rema...  \n",
      "3       Canada s federal government has agreed to acq...  \n",
      "4      Protests were directed against the state due t...  \n",
      "5       Canadian army troops today fired tear gas int...  \n",
      "...                                                  ...  \n",
      "15564                                                     \n",
      "15565  Police in Papua New Guinea fired gunshots Wedn...  \n",
      "15567  Peter O Neill has been reappointed as prime mi...  \n",
      "15568  Refugees on Manus Island were braced for poten...  \n",
      "15569                                                     \n",
      "\n",
      "[13180 rows x 2 columns]\n"
     ]
    }
   ],
   "source": [
    "import pandas \n",
    "dataset = pandas.read_stata(\"mmALL_020619_v15.dta\")\n",
    "all_columns = []\n",
    "for col in dataset.columns: \n",
    "    all_columns.append(col)\n",
    "print(all_columns)\n",
    "for name in all_columns:\n",
    "    if name == 'id' or name == 'protestnumber' or name == 'notes':\n",
    "        continue\n",
    "    if \"protesterdemand\" in name:\n",
    "        continue \n",
    "    else: \n",
    "        dataset = dataset.drop(columns =[name])\n",
    "print(dataset)\n",
    "print(dataset.shape)\n",
    "dataset = dataset[dataset.protesterdemand2 == \"\"]\n",
    "print(dataset.shape)\n",
    "print(dataset)\n",
    "for name in all_columns:\n",
    "    if \"protesterdemand\" in name:\n",
    "        if name == \"protesterdemand1\":\n",
    "            continue\n",
    "        else: \n",
    "            dataset = dataset.drop(columns =[name])\n",
    "    else:\n",
    "        if name == \"id\":\n",
    "            dataset = dataset.drop(columns =[name])\n",
    "        if name == \"protestnumber\":\n",
    "            dataset = dataset.drop(columns =[name])\n",
    "print(dataset)"
   ]
  },
  {
   "cell_type": "code",
   "execution_count": 6,
   "metadata": {},
   "outputs": [],
   "source": [
    "for col, row in dataset.iterrows(): \n",
    "    row ['protesterdemand1']= demands.index(row['protesterdemand1'])"
   ]
  },
  {
   "cell_type": "code",
   "execution_count": 7,
   "metadata": {},
   "outputs": [
    {
     "name": "stdout",
     "output_type": "stream",
     "text": [
      "      protesterdemand1                                              notes\n",
      "1                    0  protestors were only identified as  young peop...\n",
      "2                    0   THE Queen, after calling on Canadians to rema...\n",
      "3                    1   Canada s federal government has agreed to acq...\n",
      "4                    0  Protests were directed against the state due t...\n",
      "5                    2   Canadian army troops today fired tear gas int...\n",
      "...                ...                                                ...\n",
      "15564                5                                                   \n",
      "15565                7  Police in Papua New Guinea fired gunshots Wedn...\n",
      "15567                0  Peter O Neill has been reappointed as prime mi...\n",
      "15568                0  Refugees on Manus Island were braced for poten...\n",
      "15569                5                                                   \n",
      "\n",
      "[13180 rows x 2 columns]\n"
     ]
    }
   ],
   "source": [
    "print(dataset)"
   ]
  },
  {
   "cell_type": "code",
   "execution_count": 8,
   "metadata": {},
   "outputs": [
    {
     "name": "stderr",
     "output_type": "stream",
     "text": [
      "Using TensorFlow backend.\n"
     ]
    },
    {
     "name": "stdout",
     "output_type": "stream",
     "text": [
      "1        protestors were only identified as  young peop...\n",
      "2         THE Queen, after calling on Canadians to rema...\n",
      "3         Canada s federal government has agreed to acq...\n",
      "4        Protests were directed against the state due t...\n",
      "5         Canadian army troops today fired tear gas int...\n",
      "                               ...                        \n",
      "15564                                                     \n",
      "15565    Police in Papua New Guinea fired gunshots Wedn...\n",
      "15567    Peter O Neill has been reappointed as prime mi...\n",
      "15568    Refugees on Manus Island were braced for poten...\n",
      "15569                                                     \n",
      "Name: notes, Length: 13180, dtype: object\n"
     ]
    }
   ],
   "source": [
    "from keras.preprocessing.text import Tokenizer\n",
    "print(dataset.notes)\n"
   ]
  },
  {
   "cell_type": "code",
   "execution_count": 24,
   "metadata": {},
   "outputs": [
    {
     "name": "stdout",
     "output_type": "stream",
     "text": [
      "[1, 2047, 33, 214, 7, 8393, 3, 1338, 417, 2805, 26, 5, 1320, 450, 1248, 4818, 37, 3, 842, 3383, 2616, 8, 84, 2160, 697, 6, 665, 445, 594, 57, 13220, 34, 943, 340, 42, 3, 677, 1, 2047, 13221, 163, 6, 467, 4, 13222, 4818, 10, 705, 29, 418, 2617, 11, 9433, 13223, 1, 944, 167, 87, 5, 1510, 3111, 1264, 9, 35, 234, 1145, 13220, 2806, 1, 915, 62, 92, 2, 1, 17878, 4591, 2426, 13, 113, 30, 6948, 1, 470, 16, 6, 6949, 803, 159, 6, 228, 15, 99, 1, 1939, 1, 2047, 8, 3112, 157, 2, 6, 965, 2556, 1197, 2616, 64, 19, 431, 8394, 11, 35, 234, 112, 2, 1, 1511, 7597, 17879, 57, 2, 73, 6950, 4, 1, 17880, 460, 17881, 1070, 908, 27, 159, 6, 5063, 36, 4819, 61, 83, 1, 6431, 17882, 467, 4, 13222, 6, 51, 2, 2665, 31, 2048, 329, 158, 1, 5681, 1678, 22, 1, 49, 2, 5681]\n",
      "109.0\n",
      "126.0\n",
      "152.10000000000036\n",
      "201.0\n",
      "train_pad is complete.\n"
     ]
    }
   ],
   "source": [
    "import pandas as pd\n",
    "import numpy as np\n",
    "import tensorflow as tf\n",
    "import nltk, re, time\n",
    "from nltk.corpus import stopwords\n",
    "from string import punctuation\n",
    "from collections import defaultdict\n",
    "from tqdm import tqdm\n",
    "from sklearn.model_selection import train_test_split\n",
    "from keras.preprocessing.text import Tokenizer\n",
    "from keras.preprocessing.sequence import pad_sequences\n",
    "from collections import namedtuple\n",
    "\n",
    "train_clean = []\n",
    "for review in dataset.notes:\n",
    "    train_clean.append(review)\n",
    "\n",
    "tokenizer = Tokenizer()\n",
    "tokenizer.fit_on_texts(train_clean)\n",
    "train_seq = tokenizer.texts_to_sequences(train_clean)\n",
    "word_index = tokenizer.word_index\n",
    "print(train_seq[1])\n",
    "lengths = []\n",
    "for review in train_seq:\n",
    "    lengths.append(len(review))\n",
    "# Create a dataframe so that the values can be inspected\n",
    "lengths = pandas.DataFrame(lengths, columns=['counts'])\n",
    "lengths.counts.describe()\n",
    "print(np.percentile(lengths.counts, 80))\n",
    "print(np.percentile(lengths.counts, 85))\n",
    "print(np.percentile(lengths.counts, 90))\n",
    "print(np.percentile(lengths.counts, 95))\n",
    "\n",
    "max_review_length = 202\n",
    "train_pad = pad_sequences(train_seq, maxlen = max_review_length)\n",
    "print(\"train_pad is complete.\")"
   ]
  },
  {
   "cell_type": "markdown",
   "metadata": {},
   "source": []
  },
  {
   "cell_type": "code",
   "execution_count": 42,
   "metadata": {},
   "outputs": [
    {
     "name": "stdout",
     "output_type": "stream",
     "text": [
      "Shape of label tensor: (13180, 8)\n",
      "(11203, 202)\n",
      "(1977, 202)\n"
     ]
    }
   ],
   "source": [
    "Y = pd.get_dummies(dataset['protesterdemand1']).values\n",
    "print('Shape of label tensor:', Y.shape)\n",
    "\n",
    "\n",
    "x_train, x_test, y_train, y_valid = train_test_split(train_pad,Y, test_size = 0.15, random_state = 2)\n",
    "print(x_train.shape)\n",
    "print(x_test.shape)"
   ]
  },
  {
   "cell_type": "code",
   "execution_count": 53,
   "metadata": {},
   "outputs": [
    {
     "name": "stderr",
     "output_type": "stream",
     "text": [
      "/Users/michellewong/opt/anaconda3/lib/python3.7/site-packages/tensorflow_core/python/framework/indexed_slices.py:424: UserWarning: Converting sparse IndexedSlices to a dense Tensor of unknown shape. This may consume a large amount of memory.\n",
      "  \"Converting sparse IndexedSlices to a dense Tensor of unknown shape. \"\n"
     ]
    },
    {
     "name": "stdout",
     "output_type": "stream",
     "text": [
      "Train on 10082 samples, validate on 1121 samples\n",
      "Epoch 1/5\n",
      "10082/10082 [==============================] - 137s 14ms/step - loss: 1.2028 - accuracy: 0.6720 - val_loss: 1.0367 - val_accuracy: 0.7110\n",
      "Epoch 2/5\n",
      "10082/10082 [==============================] - 139s 14ms/step - loss: 0.9869 - accuracy: 0.7147 - val_loss: 0.9309 - val_accuracy: 0.7306\n",
      "Epoch 3/5\n",
      "10082/10082 [==============================] - 143s 14ms/step - loss: 0.7987 - accuracy: 0.7565 - val_loss: 0.9250 - val_accuracy: 0.7288\n",
      "Epoch 4/5\n",
      "10082/10082 [==============================] - 145s 14ms/step - loss: 0.6283 - accuracy: 0.7977 - val_loss: 0.9684 - val_accuracy: 0.7065\n",
      "Epoch 5/5\n",
      "10082/10082 [==============================] - 142s 14ms/step - loss: 0.4789 - accuracy: 0.8473 - val_loss: 1.0222 - val_accuracy: 0.7083\n"
     ]
    }
   ],
   "source": [
    "import pandas as pd\n",
    "import matplotlib.pyplot as plt\n",
    "import seaborn as sns\n",
    "from keras.preprocessing.text import Tokenizer\n",
    "from keras.preprocessing.sequence import pad_sequences\n",
    "from keras.models import Sequential\n",
    "from keras.layers import Dense, Embedding, LSTM, SpatialDropout1D\n",
    "from sklearn.model_selection import train_test_split\n",
    "from keras.utils.np_utils import to_categorical\n",
    "from keras.callbacks import EarlyStopping\n",
    "from keras.layers import Dropout\n",
    "import re\n",
    "from bs4 import BeautifulSoup\n",
    "from IPython.core.interactiveshell import InteractiveShell\n",
    "\n",
    "model = Sequential()\n",
    "model.add(Embedding(50000, 100, input_length=train_pad.shape[1]))\n",
    "model.add(SpatialDropout1D(0.2))\n",
    "model.add(LSTM(100, dropout=0.2, recurrent_dropout=0.2))\n",
    "model.add(Dense(8, activation='softmax'))\n",
    "model.compile(loss='categorical_crossentropy', optimizer='adam', metrics=['accuracy'])\n",
    "\n",
    "epochs = 5\n",
    "batch_size = 64\n",
    "\n",
    "history = model.fit(x_train, y_train, epochs=epochs, batch_size=batch_size,validation_split=0.1,callbacks=[EarlyStopping(monitor='val_loss', patience=3, min_delta=0.0001)])"
   ]
  },
  {
   "cell_type": "code",
   "execution_count": 54,
   "metadata": {},
   "outputs": [
    {
     "data": {
      "image/png": "[encoded data removed]",
      "text/plain": [
       "<Figure size 432x288 with 1 Axes>"
      ]
     },
     "metadata": {
      "needs_background": "light"
     },
     "output_type": "display_data"
    }
   ],
   "source": [
    "import matplotlib.pyplot as plt\n",
    "plt.plot(history.history['loss'], label='train')\n",
    "plt.plot(history.history['val_loss'], label='test')\n",
    "plt.legend()\n",
    "plt.show();"
   ]
  },
  {
   "cell_type": "code",
   "execution_count": 55,
   "metadata": {},
   "outputs": [
    {
     "data": {
      "image/png": "[encoded data removed]",
      "text/plain": [
       "<Figure size 432x288 with 1 Axes>"
      ]
     },
     "metadata": {
      "needs_background": "light"
     },
     "output_type": "display_data"
    }
   ],
   "source": [
    "plt.title('Accuracy')\n",
    "plt.plot(history.history['accuracy'], label='train')\n",
    "plt.plot(history.history['val_accuracy'], label='test')\n",
    "plt.legend()\n",
    "plt.show();"
   ]
  },
  {
   "cell_type": "code",
   "execution_count": null,
   "metadata": {},
   "outputs": [],
   "source": []
  }
 ],
 "metadata": {
  "kernelspec": {
   "display_name": "Python 3",
   "language": "python",
   "name": "python3"
  },
  "language_info": {
   "codemirror_mode": {
    "name": "ipython",
    "version": 3
   },
   "file_extension": ".py",
   "mimetype": "text/x-python",
   "name": "python",
   "nbconvert_exporter": "python",
   "pygments_lexer": "ipython3",
   "version": "3.7.6"
  }
 },
 "nbformat": 4,
 "nbformat_minor": 4
}
