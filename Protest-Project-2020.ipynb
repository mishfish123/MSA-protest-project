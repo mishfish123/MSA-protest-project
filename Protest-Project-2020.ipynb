{
 "cells": [
  {
   "cell_type": "markdown",
   "metadata": {},
   "source": [
    "# Automating protest categories: My MSA project "
   ]
  },
  {
   "cell_type": "markdown",
   "metadata": {},
   "source": [
    "To satisfy the requirements to complete the Microsoft student accelerator program, I will be creating an machine algorithm which categorises protest descriptions into 7 main categories. The dataset I am using is from the mass mobility project. https://dataverse.harvard.edu/dataverse/MMdata "
   ]
  },
  {
   "cell_type": "markdown",
   "metadata": {},
   "source": [
    "# Data pre-processing "
   ]
  },
  {
   "cell_type": "markdown",
   "metadata": {},
   "source": [
    "I will be simplifying the protest database, acquired from the mass mobility project, into a simple 3- column vector one consisting, their protest ID, number of protests available, a label from 1 to 7, and second and lastly, the description of the event. \n",
    "\n",
    "This is done by first converting the strata database into something that can be manipulated by pandas. Then simply dropping the unwanted columns. "
   ]
  },
  {
   "cell_type": "code",
   "execution_count": 32,
   "metadata": {},
   "outputs": [
    {
     "name": "stderr",
     "output_type": "stream",
     "text": [
      "/Users/michellewong/opt/anaconda3/lib/python3.7/site-packages/pandas/io/stata.py:1409: UnicodeWarning: \n",
      "One or more strings in the dta file could not be decoded using utf-8, and\n",
      "so the fallback encoding of latin-1 is being used.  This can happen when a file\n",
      "has been incorrectly encoded by Stata or some other software. You should verify\n",
      "the string values returned are correct.\n",
      "  warnings.warn(msg, UnicodeWarning)\n"
     ]
    },
    {
     "name": "stdout",
     "output_type": "stream",
     "text": [
      "['id', 'country', 'ccode', 'year', 'region', 'protest', 'protestnumber', 'startday', 'startmonth', 'startyear', 'endday', 'endmonth', 'endyear', 'protesterviolence', 'location', 'participants_category', 'participants', 'protesteridentity', 'protesterdemand1', 'protesterdemand2', 'protesterdemand3', 'protesterdemand4', 'stateresponse1', 'stateresponse2', 'stateresponse3', 'stateresponse4', 'stateresponse5', 'stateresponse6', 'stateresponse7', 'sources', 'notes']\n",
      "                 id  protestnumber             protesterdemand1  \\\n",
      "0      2.019900e+08            1.0  political behavior, process   \n",
      "1      2.019900e+08            2.0  political behavior, process   \n",
      "2      2.019900e+08            3.0  political behavior, process   \n",
      "3      2.019900e+08            4.0              land farm issue   \n",
      "4      2.019900e+08            5.0  political behavior, process   \n",
      "...             ...            ...                          ...   \n",
      "15565  9.102016e+09            1.0        removal of politician   \n",
      "15566  9.102017e+09            1.0  political behavior, process   \n",
      "15567  9.102017e+09            2.0  political behavior, process   \n",
      "15568  9.102017e+09            3.0  political behavior, process   \n",
      "15569  9.102018e+09            0.0                                \n",
      "\n",
      "         protesterdemand2 protesterdemand3 protesterdemand4  \\\n",
      "0      labor wage dispute                                     \n",
      "1                                                             \n",
      "2                                                             \n",
      "3                                                             \n",
      "4                                                             \n",
      "...                   ...              ...              ...   \n",
      "15565                                                         \n",
      "15566     land farm issue                                     \n",
      "15567                                                         \n",
      "15568                                                         \n",
      "15569                                                         \n",
      "\n",
      "                                                   notes  \n",
      "0       Canada s railway passenger system was finally...  \n",
      "1      protestors were only identified as  young peop...  \n",
      "2       THE Queen, after calling on Canadians to rema...  \n",
      "3       Canada s federal government has agreed to acq...  \n",
      "4      Protests were directed against the state due t...  \n",
      "...                                                  ...  \n",
      "15565  Police in Papua New Guinea fired gunshots Wedn...  \n",
      "15566  The Bougainville government has enacted an ind...  \n",
      "15567  Peter O Neill has been reappointed as prime mi...  \n",
      "15568  Refugees on Manus Island were braced for poten...  \n",
      "15569                                                     \n",
      "\n",
      "[15570 rows x 7 columns]\n",
      "(15570, 7)\n",
      "(13180, 7)\n",
      "                 id  protestnumber             protesterdemand1  \\\n",
      "1      2.019900e+08            2.0  political behavior, process   \n",
      "2      2.019900e+08            3.0  political behavior, process   \n",
      "3      2.019900e+08            4.0              land farm issue   \n",
      "4      2.019900e+08            5.0  political behavior, process   \n",
      "5      2.019900e+08            6.0             police brutality   \n",
      "...             ...            ...                          ...   \n",
      "15564  9.102015e+09            0.0                                \n",
      "15565  9.102016e+09            1.0        removal of politician   \n",
      "15567  9.102017e+09            2.0  political behavior, process   \n",
      "15568  9.102017e+09            3.0  political behavior, process   \n",
      "15569  9.102018e+09            0.0                                \n",
      "\n",
      "      protesterdemand2 protesterdemand3 protesterdemand4  \\\n",
      "1                                                          \n",
      "2                                                          \n",
      "3                                                          \n",
      "4                                                          \n",
      "5                                                          \n",
      "...                ...              ...              ...   \n",
      "15564                                                      \n",
      "15565                                                      \n",
      "15567                                                      \n",
      "15568                                                      \n",
      "15569                                                      \n",
      "\n",
      "                                                   notes  \n",
      "1      protestors were only identified as  young peop...  \n",
      "2       THE Queen, after calling on Canadians to rema...  \n",
      "3       Canada s federal government has agreed to acq...  \n",
      "4      Protests were directed against the state due t...  \n",
      "5       Canadian army troops today fired tear gas int...  \n",
      "...                                                  ...  \n",
      "15564                                                     \n",
      "15565  Police in Papua New Guinea fired gunshots Wedn...  \n",
      "15567  Peter O Neill has been reappointed as prime mi...  \n",
      "15568  Refugees on Manus Island were braced for poten...  \n",
      "15569                                                     \n",
      "\n",
      "[13180 rows x 7 columns]\n",
      "                 id  protestnumber             protesterdemand1  \\\n",
      "1      2.019900e+08            2.0  political behavior, process   \n",
      "2      2.019900e+08            3.0  political behavior, process   \n",
      "3      2.019900e+08            4.0              land farm issue   \n",
      "4      2.019900e+08            5.0  political behavior, process   \n",
      "5      2.019900e+08            6.0             police brutality   \n",
      "...             ...            ...                          ...   \n",
      "15564  9.102015e+09            0.0                                \n",
      "15565  9.102016e+09            1.0        removal of politician   \n",
      "15567  9.102017e+09            2.0  political behavior, process   \n",
      "15568  9.102017e+09            3.0  political behavior, process   \n",
      "15569  9.102018e+09            0.0                                \n",
      "\n",
      "                                                   notes  \n",
      "1      protestors were only identified as  young peop...  \n",
      "2       THE Queen, after calling on Canadians to rema...  \n",
      "3       Canada s federal government has agreed to acq...  \n",
      "4      Protests were directed against the state due t...  \n",
      "5       Canadian army troops today fired tear gas int...  \n",
      "...                                                  ...  \n",
      "15564                                                     \n",
      "15565  Police in Papua New Guinea fired gunshots Wedn...  \n",
      "15567  Peter O Neill has been reappointed as prime mi...  \n",
      "15568  Refugees on Manus Island were braced for poten...  \n",
      "15569                                                     \n",
      "\n",
      "[13180 rows x 4 columns]\n"
     ]
    }
   ],
   "source": [
    "import pandas \n",
    "dataset = pandas.read_stata(\"mmALL_020619_v15.dta\")\n",
    "all_columns = []\n",
    "for col in dataset.columns: \n",
    "    all_columns.append(col)\n",
    "print(all_columns)\n",
    "for name in all_columns:\n",
    "    if name == 'id' or name == 'protestnumber' or name == 'notes':\n",
    "        continue\n",
    "    if \"protesterdemand\" in name:\n",
    "        continue \n",
    "    else: \n",
    "        dataset = dataset.drop(columns =[name])\n",
    "print(dataset)\n",
    "print(dataset.shape)\n",
    "dataset = dataset[dataset.protesterdemand2 == \"\"]\n",
    "print(dataset.shape)\n",
    "print(dataset)\n",
    "for name in all_columns:\n",
    "    if \"protesterdemand\" in name:\n",
    "        if name == \"protesterdemand1\":\n",
    "            continue\n",
    "        else: \n",
    "            dataset = dataset.drop(columns =[name])\n",
    "print(dataset)\n",
    "\n",
    "\n",
    "\n",
    "for col, row in dataset.iterrows(): \n",
    "    if row['protesterdemand2'] not in demands:\n",
    "        demands.append(row['protesterdemand2'])\n",
    "    if row['protesterdemand2'] != \"\":\n",
    "        numbers += 1\n",
    "        dataset.drop(row, inplace=True)"
   ]
  },
  {
   "cell_type": "code",
   "execution_count": 11,
   "metadata": {},
   "outputs": [
    {
     "name": "stderr",
     "output_type": "stream",
     "text": [
      "/Users/michellewong/opt/anaconda3/lib/python3.7/site-packages/pandas/io/stata.py:1409: UnicodeWarning: \n",
      "One or more strings in the dta file could not be decoded using utf-8, and\n",
      "so the fallback encoding of latin-1 is being used.  This can happen when a file\n",
      "has been incorrectly encoded by Stata or some other software. You should verify\n",
      "the string values returned are correct.\n",
      "  warnings.warn(msg, UnicodeWarning)\n"
     ]
    },
    {
     "name": "stdout",
     "output_type": "stream",
     "text": [
      "['id', 'country', 'ccode', 'year', 'region', 'protest', 'protestnumber', 'startday', 'startmonth', 'startyear', 'endday', 'endmonth', 'endyear', 'protesterviolence', 'location', 'participants_category', 'participants', 'protesteridentity', 'protesterdemand1', 'protesterdemand2', 'protesterdemand3', 'protesterdemand4', 'stateresponse1', 'stateresponse2', 'stateresponse3', 'stateresponse4', 'stateresponse5', 'stateresponse6', 'stateresponse7', 'sources', 'notes']\n",
      "                  protesterdemand1\n",
      "0      political behavior, process\n",
      "1      political behavior, process\n",
      "2      political behavior, process\n",
      "3                  land farm issue\n",
      "4      political behavior, process\n",
      "...                            ...\n",
      "15565        removal of politician\n",
      "15566  political behavior, process\n",
      "15567  political behavior, process\n",
      "15568  political behavior, process\n",
      "15569                             \n",
      "\n",
      "[15570 rows x 1 columns]\n",
      "8\n",
      "['political behavior, process', 'land farm issue', 'police brutality', 'labor wage dispute', 'price increases, tax policy', '', 'social restrictions', 'removal of politician']\n"
     ]
    }
   ],
   "source": [
    "dataset = pandas.read_stata(\"mmALL_020619_v15.dta\")\n",
    "all_columns = []\n",
    "for col in dataset.columns: \n",
    "    all_columns.append(col)\n",
    "print(all_columns)\n",
    "for name in all_columns:\n",
    "    if name == \"protesterdemand1\":\n",
    "        continue \n",
    "    else: \n",
    "        dataset = dataset.drop(columns =[name])\n",
    "print(dataset)\n",
    "demands = []\n",
    "for col, row in dataset.iterrows(): \n",
    "    if row['protesterdemand1'] not in demands:\n",
    "        demands.append(row['protesterdemand1'])\n",
    "print(len(demands))\n",
    "print(demands)\n",
    "\n",
    "\n"
   ]
  },
  {
   "cell_type": "code",
   "execution_count": 28,
   "metadata": {},
   "outputs": [
    {
     "name": "stderr",
     "output_type": "stream",
     "text": [
      "/Users/michellewong/opt/anaconda3/lib/python3.7/site-packages/pandas/io/stata.py:1409: UnicodeWarning: \n",
      "One or more strings in the dta file could not be decoded using utf-8, and\n",
      "so the fallback encoding of latin-1 is being used.  This can happen when a file\n",
      "has been incorrectly encoded by Stata or some other software. You should verify\n",
      "the string values returned are correct.\n",
      "  warnings.warn(msg, UnicodeWarning)\n"
     ]
    },
    {
     "name": "stdout",
     "output_type": "stream",
     "text": [
      "         protesterdemand2\n",
      "0      labor wage dispute\n",
      "1                        \n",
      "2                        \n",
      "3                        \n",
      "4                        \n",
      "...                   ...\n",
      "15565                    \n",
      "15566     land farm issue\n",
      "15567                    \n",
      "15568                    \n",
      "15569                    \n",
      "\n",
      "[15570 rows x 1 columns]\n"
     ]
    },
    {
     "ename": "KeyError",
     "evalue": "\"['labor wage dispute'] not found in axis\"",
     "output_type": "error",
     "traceback": [
      "\u001b[0;31m---------------------------------------------------------------------------\u001b[0m",
      "\u001b[0;31mKeyError\u001b[0m                                  Traceback (most recent call last)",
      "\u001b[0;32m<ipython-input-28-58df01f23498>\u001b[0m in \u001b[0;36m<module>\u001b[0;34m\u001b[0m\n\u001b[1;32m     16\u001b[0m     \u001b[0;32mif\u001b[0m \u001b[0mrow\u001b[0m\u001b[0;34m[\u001b[0m\u001b[0;34m'protesterdemand2'\u001b[0m\u001b[0;34m]\u001b[0m \u001b[0;34m!=\u001b[0m \u001b[0;34m\"\"\u001b[0m\u001b[0;34m:\u001b[0m\u001b[0;34m\u001b[0m\u001b[0;34m\u001b[0m\u001b[0m\n\u001b[1;32m     17\u001b[0m         \u001b[0mnumbers\u001b[0m \u001b[0;34m+=\u001b[0m \u001b[0;36m1\u001b[0m\u001b[0;34m\u001b[0m\u001b[0;34m\u001b[0m\u001b[0m\n\u001b[0;32m---> 18\u001b[0;31m         \u001b[0mdataset\u001b[0m\u001b[0;34m.\u001b[0m\u001b[0mdrop\u001b[0m\u001b[0;34m(\u001b[0m\u001b[0mrow\u001b[0m\u001b[0;34m,\u001b[0m \u001b[0minplace\u001b[0m\u001b[0;34m=\u001b[0m\u001b[0;32mTrue\u001b[0m\u001b[0;34m)\u001b[0m\u001b[0;34m\u001b[0m\u001b[0;34m\u001b[0m\u001b[0m\n\u001b[0m\u001b[1;32m     19\u001b[0m \u001b[0;34m\u001b[0m\u001b[0m\n\u001b[1;32m     20\u001b[0m \u001b[0mprint\u001b[0m\u001b[0;34m(\u001b[0m\u001b[0mlen\u001b[0m\u001b[0;34m(\u001b[0m\u001b[0mdemands\u001b[0m\u001b[0;34m)\u001b[0m\u001b[0;34m)\u001b[0m\u001b[0;34m\u001b[0m\u001b[0;34m\u001b[0m\u001b[0m\n",
      "\u001b[0;32m~/opt/anaconda3/lib/python3.7/site-packages/pandas/core/frame.py\u001b[0m in \u001b[0;36mdrop\u001b[0;34m(self, labels, axis, index, columns, level, inplace, errors)\u001b[0m\n\u001b[1;32m   3995\u001b[0m             \u001b[0mlevel\u001b[0m\u001b[0;34m=\u001b[0m\u001b[0mlevel\u001b[0m\u001b[0;34m,\u001b[0m\u001b[0;34m\u001b[0m\u001b[0;34m\u001b[0m\u001b[0m\n\u001b[1;32m   3996\u001b[0m             \u001b[0minplace\u001b[0m\u001b[0;34m=\u001b[0m\u001b[0minplace\u001b[0m\u001b[0;34m,\u001b[0m\u001b[0;34m\u001b[0m\u001b[0;34m\u001b[0m\u001b[0m\n\u001b[0;32m-> 3997\u001b[0;31m             \u001b[0merrors\u001b[0m\u001b[0;34m=\u001b[0m\u001b[0merrors\u001b[0m\u001b[0;34m,\u001b[0m\u001b[0;34m\u001b[0m\u001b[0;34m\u001b[0m\u001b[0m\n\u001b[0m\u001b[1;32m   3998\u001b[0m         )\n\u001b[1;32m   3999\u001b[0m \u001b[0;34m\u001b[0m\u001b[0m\n",
      "\u001b[0;32m~/opt/anaconda3/lib/python3.7/site-packages/pandas/core/generic.py\u001b[0m in \u001b[0;36mdrop\u001b[0;34m(self, labels, axis, index, columns, level, inplace, errors)\u001b[0m\n\u001b[1;32m   3934\u001b[0m         \u001b[0;32mfor\u001b[0m \u001b[0maxis\u001b[0m\u001b[0;34m,\u001b[0m \u001b[0mlabels\u001b[0m \u001b[0;32min\u001b[0m \u001b[0maxes\u001b[0m\u001b[0;34m.\u001b[0m\u001b[0mitems\u001b[0m\u001b[0;34m(\u001b[0m\u001b[0;34m)\u001b[0m\u001b[0;34m:\u001b[0m\u001b[0;34m\u001b[0m\u001b[0;34m\u001b[0m\u001b[0m\n\u001b[1;32m   3935\u001b[0m             \u001b[0;32mif\u001b[0m \u001b[0mlabels\u001b[0m \u001b[0;32mis\u001b[0m \u001b[0;32mnot\u001b[0m \u001b[0;32mNone\u001b[0m\u001b[0;34m:\u001b[0m\u001b[0;34m\u001b[0m\u001b[0;34m\u001b[0m\u001b[0m\n\u001b[0;32m-> 3936\u001b[0;31m                 \u001b[0mobj\u001b[0m \u001b[0;34m=\u001b[0m \u001b[0mobj\u001b[0m\u001b[0;34m.\u001b[0m\u001b[0m_drop_axis\u001b[0m\u001b[0;34m(\u001b[0m\u001b[0mlabels\u001b[0m\u001b[0;34m,\u001b[0m \u001b[0maxis\u001b[0m\u001b[0;34m,\u001b[0m \u001b[0mlevel\u001b[0m\u001b[0;34m=\u001b[0m\u001b[0mlevel\u001b[0m\u001b[0;34m,\u001b[0m \u001b[0merrors\u001b[0m\u001b[0;34m=\u001b[0m\u001b[0merrors\u001b[0m\u001b[0;34m)\u001b[0m\u001b[0;34m\u001b[0m\u001b[0;34m\u001b[0m\u001b[0m\n\u001b[0m\u001b[1;32m   3937\u001b[0m \u001b[0;34m\u001b[0m\u001b[0m\n\u001b[1;32m   3938\u001b[0m         \u001b[0;32mif\u001b[0m \u001b[0minplace\u001b[0m\u001b[0;34m:\u001b[0m\u001b[0;34m\u001b[0m\u001b[0;34m\u001b[0m\u001b[0m\n",
      "\u001b[0;32m~/opt/anaconda3/lib/python3.7/site-packages/pandas/core/generic.py\u001b[0m in \u001b[0;36m_drop_axis\u001b[0;34m(self, labels, axis, level, errors)\u001b[0m\n\u001b[1;32m   3968\u001b[0m                 \u001b[0mnew_axis\u001b[0m \u001b[0;34m=\u001b[0m \u001b[0maxis\u001b[0m\u001b[0;34m.\u001b[0m\u001b[0mdrop\u001b[0m\u001b[0;34m(\u001b[0m\u001b[0mlabels\u001b[0m\u001b[0;34m,\u001b[0m \u001b[0mlevel\u001b[0m\u001b[0;34m=\u001b[0m\u001b[0mlevel\u001b[0m\u001b[0;34m,\u001b[0m \u001b[0merrors\u001b[0m\u001b[0;34m=\u001b[0m\u001b[0merrors\u001b[0m\u001b[0;34m)\u001b[0m\u001b[0;34m\u001b[0m\u001b[0;34m\u001b[0m\u001b[0m\n\u001b[1;32m   3969\u001b[0m             \u001b[0;32melse\u001b[0m\u001b[0;34m:\u001b[0m\u001b[0;34m\u001b[0m\u001b[0;34m\u001b[0m\u001b[0m\n\u001b[0;32m-> 3970\u001b[0;31m                 \u001b[0mnew_axis\u001b[0m \u001b[0;34m=\u001b[0m \u001b[0maxis\u001b[0m\u001b[0;34m.\u001b[0m\u001b[0mdrop\u001b[0m\u001b[0;34m(\u001b[0m\u001b[0mlabels\u001b[0m\u001b[0;34m,\u001b[0m \u001b[0merrors\u001b[0m\u001b[0;34m=\u001b[0m\u001b[0merrors\u001b[0m\u001b[0;34m)\u001b[0m\u001b[0;34m\u001b[0m\u001b[0;34m\u001b[0m\u001b[0m\n\u001b[0m\u001b[1;32m   3971\u001b[0m             \u001b[0mresult\u001b[0m \u001b[0;34m=\u001b[0m \u001b[0mself\u001b[0m\u001b[0;34m.\u001b[0m\u001b[0mreindex\u001b[0m\u001b[0;34m(\u001b[0m\u001b[0;34m**\u001b[0m\u001b[0;34m{\u001b[0m\u001b[0maxis_name\u001b[0m\u001b[0;34m:\u001b[0m \u001b[0mnew_axis\u001b[0m\u001b[0;34m}\u001b[0m\u001b[0;34m)\u001b[0m\u001b[0;34m\u001b[0m\u001b[0;34m\u001b[0m\u001b[0m\n\u001b[1;32m   3972\u001b[0m \u001b[0;34m\u001b[0m\u001b[0m\n",
      "\u001b[0;32m~/opt/anaconda3/lib/python3.7/site-packages/pandas/core/indexes/base.py\u001b[0m in \u001b[0;36mdrop\u001b[0;34m(self, labels, errors)\u001b[0m\n\u001b[1;32m   5016\u001b[0m         \u001b[0;32mif\u001b[0m \u001b[0mmask\u001b[0m\u001b[0;34m.\u001b[0m\u001b[0many\u001b[0m\u001b[0;34m(\u001b[0m\u001b[0;34m)\u001b[0m\u001b[0;34m:\u001b[0m\u001b[0;34m\u001b[0m\u001b[0;34m\u001b[0m\u001b[0m\n\u001b[1;32m   5017\u001b[0m             \u001b[0;32mif\u001b[0m \u001b[0merrors\u001b[0m \u001b[0;34m!=\u001b[0m \u001b[0;34m\"ignore\"\u001b[0m\u001b[0;34m:\u001b[0m\u001b[0;34m\u001b[0m\u001b[0;34m\u001b[0m\u001b[0m\n\u001b[0;32m-> 5018\u001b[0;31m                 \u001b[0;32mraise\u001b[0m \u001b[0mKeyError\u001b[0m\u001b[0;34m(\u001b[0m\u001b[0;34mf\"{labels[mask]} not found in axis\"\u001b[0m\u001b[0;34m)\u001b[0m\u001b[0;34m\u001b[0m\u001b[0;34m\u001b[0m\u001b[0m\n\u001b[0m\u001b[1;32m   5019\u001b[0m             \u001b[0mindexer\u001b[0m \u001b[0;34m=\u001b[0m \u001b[0mindexer\u001b[0m\u001b[0;34m[\u001b[0m\u001b[0;34m~\u001b[0m\u001b[0mmask\u001b[0m\u001b[0;34m]\u001b[0m\u001b[0;34m\u001b[0m\u001b[0;34m\u001b[0m\u001b[0m\n\u001b[1;32m   5020\u001b[0m         \u001b[0;32mreturn\u001b[0m \u001b[0mself\u001b[0m\u001b[0;34m.\u001b[0m\u001b[0mdelete\u001b[0m\u001b[0;34m(\u001b[0m\u001b[0mindexer\u001b[0m\u001b[0;34m)\u001b[0m\u001b[0;34m\u001b[0m\u001b[0;34m\u001b[0m\u001b[0m\n",
      "\u001b[0;31mKeyError\u001b[0m: \"['labor wage dispute'] not found in axis\""
     ]
    }
   ],
   "source": [
    "dataset = pandas.read_stata(\"mmALL_020619_v15.dta\")\n",
    "all_columns = []\n",
    "for col in dataset.columns: \n",
    "    all_columns.append(col)\n",
    "for name in all_columns:\n",
    "    if name == \"protesterdemand2\":\n",
    "        continue \n",
    "    else: \n",
    "        dataset = dataset.drop(columns =[name])\n",
    "print(dataset)\n",
    "demands = []\n",
    "numbers = 0\n",
    "for col, row in dataset.iterrows(): \n",
    "    if row['protesterdemand2'] not in demands:\n",
    "        demands.append(row['protesterdemand2'])\n",
    "    if row['protesterdemand2'] != \"\":\n",
    "        numbers += 1\n",
    "        dataset.drop(row, inplace=True)\n",
    "    \n",
    "print(len(demands))\n",
    "print(demands)\n",
    "print(numbers)"
   ]
  },
  {
   "cell_type": "markdown",
   "metadata": {},
   "source": [
    "Therefore , there is at least 8*8*8*7 possibilities , which is not entirely impossible, therefore to make things simplier for the project I deleted all protest which had more than 1 protester demands, making the classification process less abstract. All together this meant removing only 2390 in the data set. "
   ]
  },
  {
   "cell_type": "markdown",
   "metadata": {},
   "source": []
  },
  {
   "cell_type": "code",
   "execution_count": null,
   "metadata": {},
   "outputs": [],
   "source": []
  }
 ],
 "metadata": {
  "kernelspec": {
   "display_name": "Python 3",
   "language": "python",
   "name": "python3"
  },
  "language_info": {
   "codemirror_mode": {
    "name": "ipython",
    "version": 3
   },
   "file_extension": ".py",
   "mimetype": "text/x-python",
   "name": "python",
   "nbconvert_exporter": "python",
   "pygments_lexer": "ipython3",
   "version": "3.7.6"
  }
 },
 "nbformat": 4,
 "nbformat_minor": 4
}
