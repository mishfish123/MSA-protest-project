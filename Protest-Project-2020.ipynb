{
 "cells": [
  {
   "cell_type": "markdown",
   "metadata": {},
   "source": [
    "# Automating protest categories: My MSA project "
   ]
  },
  {
   "cell_type": "markdown",
   "metadata": {},
   "source": [
    "To satisfy the requirements to complete the Microsoft student accelerator program, I will be creating an machine algorithm which categorises protest descriptions into 7 main categories. The database I am using is from the mass mobility project. "
   ]
  },
  {
   "cell_type": "markdown",
   "metadata": {},
   "source": [
    "# Date preprocessing "
   ]
  },
  {
   "cell_type": "markdown",
   "metadata": {},
   "source": [
    "I will be simplifying the protest database, acquired from the mass mobility project, into a simple 3- column vector one consisting, their protest ID, number of protests available, a label from 1 to 7, and second and lastly, the description of the event. \n",
    "\n",
    "This is done by first converting the strata database into something that can be manipulated by pandas. Then simply dropping the unwanted columns. "
   ]
  },
  {
   "cell_type": "code",
   "execution_count": null,
   "metadata": {},
   "outputs": [],
   "source": []
  }
 ],
 "metadata": {
  "kernelspec": {
   "display_name": "Python 3",
   "language": "python",
   "name": "python3"
  },
  "language_info": {
   "codemirror_mode": {
    "name": "ipython",
    "version": 3
   },
   "file_extension": ".py",
   "mimetype": "text/x-python",
   "name": "python",
   "nbconvert_exporter": "python",
   "pygments_lexer": "ipython3",
   "version": "3.7.6"
  }
 },
 "nbformat": 4,
 "nbformat_minor": 4
}
