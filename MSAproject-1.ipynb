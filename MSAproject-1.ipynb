{
 "cells": [
  {
   "cell_type": "markdown",
   "metadata": {},
   "source": [
    "### Automating protest categories (MSA 2020) \n",
    "Using machine learning to predict protester demands based on protest descriptions. "
   ]
  },
  {
   "cell_type": "markdown",
   "metadata": {},
   "source": [
    "In light of recent civil unrest, including #blacklivesmatter and #metoo movements,it has never been more important for people in positions of power to listen citizen voices.\n",
    "\n",
    "<p> For my microsoft student accelerator project, I will be trying to develop machine learning model which can read descriptions about government protests, and construct a suitable label for the event.\n",
    "\n",
    "<p> Along with certain RSS scraping methods, I would like to extend this project to automatically label incoming news articles in accordance to protest demands. I would also love to have more comprehesive labels to describe each event, to provide insightful analysis of what specifically demands are around the world, to see if there are any similarities and differences. "
   ]
  },
  {
   "cell_type": "markdown",
   "metadata": {},
   "source": [
    "### Packages required"
   ]
  },
  {
   "cell_type": "code",
   "execution_count": 1,
   "metadata": {},
   "outputs": [
    {
     "name": "stderr",
     "output_type": "stream",
     "text": [
      "Using TensorFlow backend.\n"
     ]
    }
   ],
   "source": [
    "import pandas as pd\n",
    "import numpy as np\n",
    "import tensorflow as tf\n",
    "from sklearn.model_selection import train_test_split\n",
    "from keras.preprocessing.text import Tokenizer\n",
    "from keras.preprocessing.sequence import pad_sequences\n",
    "import matplotlib.pyplot as plt\n",
    "from keras.preprocessing.text import Tokenizer\n",
    "from keras.preprocessing.sequence import pad_sequences\n",
    "from keras.models import Sequential\n",
    "from keras.layers import Dense, Embedding, LSTM, SpatialDropout1D\n",
    "from sklearn.model_selection import train_test_split\n",
    "from keras.utils.np_utils import to_categorical\n",
    "from keras.callbacks import EarlyStopping\n",
    "from keras.layers import Dropout"
   ]
  },
  {
   "cell_type": "markdown",
   "metadata": {},
   "source": [
    "### The Dataset"
   ]
  },
  {
   "cell_type": "markdown",
   "metadata": {},
   "source": [
    "I will be using a dataset collected by the Mass Mobilisation data project. The dataset consists of protest events with over 50 or more protesters,  that cover 162 countries between 1990 and 2018. Each event has been extensively characterised based on country, date, protester demands and state responses. Information about these events has mostly been taken from news source. Each event also consists of a 200 word short description of the event that took place. The focus of this project will be based on trying to automatically label these descriptions based on protester demands. You can gain further details about the demands using the following link. "
   ]
  },
  {
   "cell_type": "markdown",
   "metadata": {},
   "source": [
    "The protest demands were categorised into 8 categories, as inspected in the following code. \n",
    "\n",
    "* political behavior, process\n",
    "* land farm issue'police brutality\n",
    "* labor wage dispute\n",
    "* price increases, tax policy\n",
    "* social restrictions \n",
    "* removal of politicans\n",
    "* other or ''"
   ]
  },
  {
   "cell_type": "code",
   "execution_count": 2,
   "metadata": {
    "scrolled": true
   },
   "outputs": [
    {
     "name": "stderr",
     "output_type": "stream",
     "text": [
      "/Users/michellewong/opt/anaconda3/lib/python3.7/site-packages/pandas/io/stata.py:1409: UnicodeWarning: \n",
      "One or more strings in the dta file could not be decoded using utf-8, and\n",
      "so the fallback encoding of latin-1 is being used.  This can happen when a file\n",
      "has been incorrectly encoded by Stata or some other software. You should verify\n",
      "the string values returned are correct.\n",
      "  warnings.warn(msg, UnicodeWarning)\n"
     ]
    },
    {
     "name": "stdout",
     "output_type": "stream",
     "text": [
      "All columns within the dataset\n",
      "['id' 'country' 'ccode' 'year' 'region' 'protest' 'protestnumber'\n",
      " 'startday' 'startmonth' 'startyear' 'endday' 'endmonth' 'endyear'\n",
      " 'protesterviolence' 'location' 'participants_category' 'participants'\n",
      " 'protesteridentity' 'protesterdemand1' 'protesterdemand2'\n",
      " 'protesterdemand3' 'protesterdemand4' 'stateresponse1' 'stateresponse2'\n",
      " 'stateresponse3' 'stateresponse4' 'stateresponse5' 'stateresponse6'\n",
      " 'stateresponse7' 'sources' 'notes']\n",
      "Unique protester demands: \n",
      "['political behavior, process' 'land farm issue' 'police brutality'\n",
      " 'labor wage dispute' 'price increases, tax policy' ''\n",
      " 'social restrictions' 'removal of politician']\n"
     ]
    }
   ],
   "source": [
    "#move strata dataset from the project into a pandas dataframes\n",
    "og_dataset = pd.read_stata(\"mmALL_020619_v15.dta\")\n",
    "\n",
    "\n",
    "#shows all columns in dataset \n",
    "print(\"All columns within the dataset\")\n",
    "print(og_dataset.columns.values)\n",
    "\n",
    "print(\"Unique protester demands: \")\n",
    "print(og_dataset.protesterdemand1.unique())\n",
    "demands = og_dataset.protesterdemand1.unique()"
   ]
  },
  {
   "cell_type": "markdown",
   "metadata": {},
   "source": [
    "Even though there are more than one protester demand catergory for some events, after an intial inspection, out of the 15,000 events in the data set at bit more than 2000 had more than one protester demand. Therefore I omitted them from the dataset. I also simplified the dataframe so that it only had to columns, the protester demand label and the description or notes in the dataset, to get the data ready for data processing. "
   ]
  },
  {
   "cell_type": "code",
   "execution_count": 3,
   "metadata": {},
   "outputs": [
    {
     "name": "stdout",
     "output_type": "stream",
     "text": [
      "(12000, 2)\n",
      "(1180, 2)\n"
     ]
    }
   ],
   "source": [
    "og_dataset = og_dataset[og_dataset.protesterdemand2 == \"\"]\n",
    "simp_dataset = og_dataset.loc[:, og_dataset.columns.intersection(['protesterdemand1','notes'])]\n",
    "simp_dataset.head()\n",
    "non_test = simp_dataset.iloc[ :12000,:]\n",
    "test = simp_dataset.iloc[12000:,:]\n",
    "print(non_test.shape)\n",
    "print(test.shape)"
   ]
  },
  {
   "cell_type": "markdown",
   "metadata": {},
   "source": [
    "Next, I tokenised and paded each protest description using keras's tokeniser and padding functions. "
   ]
  },
  {
   "cell_type": "code",
   "execution_count": 4,
   "metadata": {},
   "outputs": [
    {
     "name": "stdout",
     "output_type": "stream",
     "text": [
      "[1, 1940, 33, 219, 7, 7971, 3, 1370, 415, 2744, 27, 5, 1284, 416, 1205, 4574, 45, 3, 845, 3445, 2463, 8, 88, 2169, 702, 6, 672, 449, 608, 57, 12601, 34, 989, 354, 44, 3, 663, 1, 1940, 12602, 166, 6, 500, 4, 12603, 4574, 10, 693, 29, 424, 2464, 11, 8961, 12604, 1, 990, 193, 96, 5, 1877, 2964, 1254, 9, 35, 239, 1116, 12601, 2745, 1, 958, 62, 91, 2, 1, 16960, 4357, 2307, 13, 113, 30, 7972, 1, 505, 16, 6, 7211, 797, 162, 6, 229, 15, 99, 1, 2170, 1, 1940, 8, 3041, 156, 2, 6, 1054, 2414, 1140, 2463, 64, 19, 428, 7973, 11, 35, 239, 112, 2, 1, 1478, 16961, 16962, 57, 2, 74, 6603, 4, 1, 16963, 437, 16964, 1070, 915, 26, 162, 6, 5103, 36, 4791, 61, 85, 1, 6125, 16965, 500, 4, 12603, 6, 51, 2, 2598, 31, 2015, 327, 157, 1, 5393, 1717, 22, 1, 50, 2, 5393]\n",
      "111.0\n",
      "128.0\n",
      "155.0\n",
      "202.0\n"
     ]
    }
   ],
   "source": [
    "train_clean = []\n",
    "for review in non_test.notes:\n",
    "    train_clean.append(review)\n",
    "tokenizer = Tokenizer()\n",
    "tokenizer.fit_on_texts(train_clean)\n",
    "train_seq = tokenizer.texts_to_sequences(train_clean)\n",
    "word_index = tokenizer.word_index\n",
    "print(train_seq[1])\n",
    "\n",
    "#count length of reviews\n",
    "lengths = []\n",
    "for review in train_seq:\n",
    "    lengths.append(len(review))\n",
    "lengths = pd.DataFrame(lengths, columns=['counts'])\n",
    "lengths.counts.describe()\n",
    "print(np.percentile(lengths.counts, 80))\n",
    "print(np.percentile(lengths.counts, 85))\n",
    "print(np.percentile(lengths.counts, 90))\n",
    "print(np.percentile(lengths.counts, 95))\n",
    "\n",
    "max_review_length = 202\n",
    "train_pad = pad_sequences(train_seq, maxlen = max_review_length)\n"
   ]
  },
  {
   "cell_type": "markdown",
   "metadata": {},
   "source": [
    "I then split the database into training, validation and test sets."
   ]
  },
  {
   "cell_type": "code",
   "execution_count": 5,
   "metadata": {},
   "outputs": [
    {
     "name": "stdout",
     "output_type": "stream",
     "text": [
      "Shape of label tensor: (12000, 8)\n",
      "(10200, 202)\n",
      "(1800, 202)\n"
     ]
    }
   ],
   "source": [
    "Y = pd.get_dummies(non_test['protesterdemand1']).values\n",
    "print('Shape of label tensor:', Y.shape)\n",
    "x_train, x_valid, y_train, y_valid = train_test_split(train_pad,Y, test_size = 0.15, random_state = 2)\n",
    "print(x_train.shape)\n",
    "print(x_valid.shape)"
   ]
  },
  {
   "cell_type": "code",
   "execution_count": 7,
   "metadata": {
    "scrolled": true
   },
   "outputs": [
    {
     "name": "stderr",
     "output_type": "stream",
     "text": [
      "/Users/michellewong/opt/anaconda3/lib/python3.7/site-packages/tensorflow_core/python/framework/indexed_slices.py:424: UserWarning: Converting sparse IndexedSlices to a dense Tensor of unknown shape. This may consume a large amount of memory.\n",
      "  \"Converting sparse IndexedSlices to a dense Tensor of unknown shape. \"\n"
     ]
    },
    {
     "name": "stdout",
     "output_type": "stream",
     "text": [
      "Train on 10200 samples, validate on 1800 samples\n",
      "Epoch 1/5\n",
      "10200/10200 [==============================] - 140s 14ms/step - loss: 1.1450 - accuracy: 0.6946 - val_loss: 1.0803 - val_accuracy: 0.7006\n",
      "Epoch 2/5\n",
      "10200/10200 [==============================] - 137s 13ms/step - loss: 0.9360 - accuracy: 0.7286 - val_loss: 1.0171 - val_accuracy: 0.6967\n",
      "Epoch 3/5\n",
      "10200/10200 [==============================] - 137s 13ms/step - loss: 0.7592 - accuracy: 0.7676 - val_loss: 0.9320 - val_accuracy: 0.7322\n",
      "Epoch 4/5\n",
      "10200/10200 [==============================] - 137s 13ms/step - loss: 0.6124 - accuracy: 0.8073 - val_loss: 0.9792 - val_accuracy: 0.7289\n",
      "Epoch 5/5\n",
      "10200/10200 [==============================] - 141s 14ms/step - loss: 0.4829 - accuracy: 0.8502 - val_loss: 1.0239 - val_accuracy: 0.7156\n"
     ]
    }
   ],
   "source": [
    "model = Sequential()\n",
    "model.add(Embedding(50000, 100, input_length=train_pad.shape[1]))\n",
    "model.add(SpatialDropout1D(0.2))\n",
    "model.add(LSTM(100, dropout=0.2, recurrent_dropout=0.2))\n",
    "model.add(Dense(8, activation='softmax'))\n",
    "model.compile(loss='categorical_crossentropy', optimizer='adam', metrics=['accuracy'])\n",
    "\n",
    "epochs = 5\n",
    "batch_size = 64\n",
    "\n",
    "history = model.fit(x_train, y_train, validation_data = (x_valid, y_valid), epochs=epochs, batch_size=batch_size,validation_split=0.1,callbacks=[EarlyStopping(monitor='val_loss', patience=3, min_delta=0.0001)])"
   ]
  },
  {
   "cell_type": "code",
   "execution_count": 8,
   "metadata": {},
   "outputs": [
    {
     "data": {
      "image/png": "[encoded data removed]",
      "text/plain": [
       "<Figure size 432x288 with 1 Axes>"
      ]
     },
     "metadata": {
      "needs_background": "light"
     },
     "output_type": "display_data"
    },
    {
     "data": {
      "image/png": "[encoded data removed]",
      "text/plain": [
       "<Figure size 432x288 with 1 Axes>"
      ]
     },
     "metadata": {
      "needs_background": "light"
     },
     "output_type": "display_data"
    }
   ],
   "source": [
    "plt.plot(history.history['loss'], label='train')\n",
    "plt.plot(history.history['val_loss'], label='validation')\n",
    "plt.legend()\n",
    "plt.show();\n",
    "\n",
    "plt.title('Accuracy')\n",
    "plt.plot(history.history['accuracy'], label='train')\n",
    "plt.plot(history.history['val_accuracy'], label='validation')\n",
    "plt.legend()\n",
    "plt.show();"
   ]
  },
  {
   "cell_type": "code",
   "execution_count": 9,
   "metadata": {},
   "outputs": [
    {
     "name": "stdout",
     "output_type": "stream",
     "text": [
      "Accuracy: 85.41%\n"
     ]
    },
    {
     "ename": "ValueError",
     "evalue": "Error when checking input: expected embedding_2_input to have shape (202,) but got array with shape (1,)",
     "output_type": "error",
     "traceback": [
      "\u001b[0;31m---------------------------------------------------------------------------\u001b[0m",
      "\u001b[0;31mValueError\u001b[0m                                Traceback (most recent call last)",
      "\u001b[0;32m<ipython-input-9-e560e6282302>\u001b[0m in \u001b[0;36m<module>\u001b[0;34m\u001b[0m\n\u001b[1;32m     18\u001b[0m \u001b[0mprint\u001b[0m\u001b[0;34m(\u001b[0m\u001b[0;34m\"Accuracy: %.2f%%\"\u001b[0m \u001b[0;34m%\u001b[0m \u001b[0;34m(\u001b[0m\u001b[0mscores\u001b[0m\u001b[0;34m[\u001b[0m\u001b[0;36m1\u001b[0m\u001b[0;34m]\u001b[0m\u001b[0;34m*\u001b[0m\u001b[0;36m100\u001b[0m\u001b[0;34m)\u001b[0m\u001b[0;34m)\u001b[0m\u001b[0;34m\u001b[0m\u001b[0;34m\u001b[0m\u001b[0m\n\u001b[1;32m     19\u001b[0m \u001b[0;34m\u001b[0m\u001b[0m\n\u001b[0;32m---> 20\u001b[0;31m \u001b[0mpred\u001b[0m \u001b[0;34m=\u001b[0m \u001b[0mmodel\u001b[0m\u001b[0;34m.\u001b[0m\u001b[0mpredict\u001b[0m\u001b[0;34m(\u001b[0m\u001b[0mtest_pad\u001b[0m\u001b[0;34m[\u001b[0m\u001b[0;36m0\u001b[0m\u001b[0;34m]\u001b[0m\u001b[0;34m)\u001b[0m\u001b[0;34m\u001b[0m\u001b[0;34m\u001b[0m\u001b[0m\n\u001b[0m\u001b[1;32m     21\u001b[0m \u001b[0mprint\u001b[0m\u001b[0;34m(\u001b[0m\u001b[0mpred\u001b[0m\u001b[0;34m,\u001b[0m \u001b[0mnp\u001b[0m\u001b[0;34m.\u001b[0m\u001b[0margmax\u001b[0m\u001b[0;34m(\u001b[0m\u001b[0mpred\u001b[0m\u001b[0;34m)\u001b[0m\u001b[0;34m)\u001b[0m\u001b[0;34m\u001b[0m\u001b[0;34m\u001b[0m\u001b[0m\n",
      "\u001b[0;32m~/opt/anaconda3/lib/python3.7/site-packages/keras/engine/training.py\u001b[0m in \u001b[0;36mpredict\u001b[0;34m(self, x, batch_size, verbose, steps, callbacks, max_queue_size, workers, use_multiprocessing)\u001b[0m\n\u001b[1;32m   1439\u001b[0m \u001b[0;34m\u001b[0m\u001b[0m\n\u001b[1;32m   1440\u001b[0m         \u001b[0;31m# Case 2: Symbolic tensors or Numpy array-like.\u001b[0m\u001b[0;34m\u001b[0m\u001b[0;34m\u001b[0m\u001b[0;34m\u001b[0m\u001b[0m\n\u001b[0;32m-> 1441\u001b[0;31m         \u001b[0mx\u001b[0m\u001b[0;34m,\u001b[0m \u001b[0m_\u001b[0m\u001b[0;34m,\u001b[0m \u001b[0m_\u001b[0m \u001b[0;34m=\u001b[0m \u001b[0mself\u001b[0m\u001b[0;34m.\u001b[0m\u001b[0m_standardize_user_data\u001b[0m\u001b[0;34m(\u001b[0m\u001b[0mx\u001b[0m\u001b[0;34m)\u001b[0m\u001b[0;34m\u001b[0m\u001b[0;34m\u001b[0m\u001b[0m\n\u001b[0m\u001b[1;32m   1442\u001b[0m         \u001b[0;32mif\u001b[0m \u001b[0mself\u001b[0m\u001b[0;34m.\u001b[0m\u001b[0mstateful\u001b[0m\u001b[0;34m:\u001b[0m\u001b[0;34m\u001b[0m\u001b[0;34m\u001b[0m\u001b[0m\n\u001b[1;32m   1443\u001b[0m             \u001b[0;32mif\u001b[0m \u001b[0mx\u001b[0m\u001b[0;34m[\u001b[0m\u001b[0;36m0\u001b[0m\u001b[0;34m]\u001b[0m\u001b[0;34m.\u001b[0m\u001b[0mshape\u001b[0m\u001b[0;34m[\u001b[0m\u001b[0;36m0\u001b[0m\u001b[0;34m]\u001b[0m \u001b[0;34m>\u001b[0m \u001b[0mbatch_size\u001b[0m \u001b[0;32mand\u001b[0m \u001b[0mx\u001b[0m\u001b[0;34m[\u001b[0m\u001b[0;36m0\u001b[0m\u001b[0;34m]\u001b[0m\u001b[0;34m.\u001b[0m\u001b[0mshape\u001b[0m\u001b[0;34m[\u001b[0m\u001b[0;36m0\u001b[0m\u001b[0;34m]\u001b[0m \u001b[0;34m%\u001b[0m \u001b[0mbatch_size\u001b[0m \u001b[0;34m!=\u001b[0m \u001b[0;36m0\u001b[0m\u001b[0;34m:\u001b[0m\u001b[0;34m\u001b[0m\u001b[0;34m\u001b[0m\u001b[0m\n",
      "\u001b[0;32m~/opt/anaconda3/lib/python3.7/site-packages/keras/engine/training.py\u001b[0m in \u001b[0;36m_standardize_user_data\u001b[0;34m(self, x, y, sample_weight, class_weight, check_array_lengths, batch_size)\u001b[0m\n\u001b[1;32m    577\u001b[0m             \u001b[0mfeed_input_shapes\u001b[0m\u001b[0;34m,\u001b[0m\u001b[0;34m\u001b[0m\u001b[0;34m\u001b[0m\u001b[0m\n\u001b[1;32m    578\u001b[0m             \u001b[0mcheck_batch_axis\u001b[0m\u001b[0;34m=\u001b[0m\u001b[0;32mFalse\u001b[0m\u001b[0;34m,\u001b[0m  \u001b[0;31m# Don't enforce the batch size.\u001b[0m\u001b[0;34m\u001b[0m\u001b[0;34m\u001b[0m\u001b[0m\n\u001b[0;32m--> 579\u001b[0;31m             exception_prefix='input')\n\u001b[0m\u001b[1;32m    580\u001b[0m \u001b[0;34m\u001b[0m\u001b[0m\n\u001b[1;32m    581\u001b[0m         \u001b[0;32mif\u001b[0m \u001b[0my\u001b[0m \u001b[0;32mis\u001b[0m \u001b[0;32mnot\u001b[0m \u001b[0;32mNone\u001b[0m\u001b[0;34m:\u001b[0m\u001b[0;34m\u001b[0m\u001b[0;34m\u001b[0m\u001b[0m\n",
      "\u001b[0;32m~/opt/anaconda3/lib/python3.7/site-packages/keras/engine/training_utils.py\u001b[0m in \u001b[0;36mstandardize_input_data\u001b[0;34m(data, names, shapes, check_batch_axis, exception_prefix)\u001b[0m\n\u001b[1;32m    143\u001b[0m                             \u001b[0;34m': expected '\u001b[0m \u001b[0;34m+\u001b[0m \u001b[0mnames\u001b[0m\u001b[0;34m[\u001b[0m\u001b[0mi\u001b[0m\u001b[0;34m]\u001b[0m \u001b[0;34m+\u001b[0m \u001b[0;34m' to have shape '\u001b[0m \u001b[0;34m+\u001b[0m\u001b[0;34m\u001b[0m\u001b[0;34m\u001b[0m\u001b[0m\n\u001b[1;32m    144\u001b[0m                             \u001b[0mstr\u001b[0m\u001b[0;34m(\u001b[0m\u001b[0mshape\u001b[0m\u001b[0;34m)\u001b[0m \u001b[0;34m+\u001b[0m \u001b[0;34m' but got array with shape '\u001b[0m \u001b[0;34m+\u001b[0m\u001b[0;34m\u001b[0m\u001b[0;34m\u001b[0m\u001b[0m\n\u001b[0;32m--> 145\u001b[0;31m                             str(data_shape))\n\u001b[0m\u001b[1;32m    146\u001b[0m     \u001b[0;32mreturn\u001b[0m \u001b[0mdata\u001b[0m\u001b[0;34m\u001b[0m\u001b[0;34m\u001b[0m\u001b[0m\n\u001b[1;32m    147\u001b[0m \u001b[0;34m\u001b[0m\u001b[0m\n",
      "\u001b[0;31mValueError\u001b[0m: Error when checking input: expected embedding_2_input to have shape (202,) but got array with shape (1,)"
     ]
    }
   ],
   "source": [
    "test_clean = []\n",
    "for review in test.notes:\n",
    "    test_clean.append(review)\n",
    "tokenizer = Tokenizer()\n",
    "tokenizer.fit_on_texts(test_clean)\n",
    "test_seq = tokenizer.texts_to_sequences(test_clean)\n",
    "word_index = tokenizer.word_index\n",
    "lengths = []\n",
    "for review in test_seq:\n",
    "    lengths.append(len(review))\n",
    "lengths = pd.DataFrame(lengths, columns=['counts'])\n",
    "lengths.counts.describe()\n",
    "max_review_length = 202\n",
    "test_pad = pad_sequences(train_seq, maxlen = max_review_length)\n",
    "Y = pd.get_dummies(non_test['protesterdemand1']).values\n",
    "\n",
    "scores = model.evaluate(test_pad, Y, verbose=0)\n",
    "print(\"Accuracy: %.2f%%\" % (scores[1]*100))\n",
    "\n",
    "pred = model.predict(test_pad[0])\n",
    "print(pred, np.argmax(pred))\n"
   ]
  },
  {
   "cell_type": "code",
   "execution_count": null,
   "metadata": {},
   "outputs": [],
   "source": []
  }
 ],
 "metadata": {
  "kernelspec": {
   "display_name": "Python 3",
   "language": "python",
   "name": "python3"
  },
  "language_info": {
   "codemirror_mode": {
    "name": "ipython",
    "version": 3
   },
   "file_extension": ".py",
   "mimetype": "text/x-python",
   "name": "python",
   "nbconvert_exporter": "python",
   "pygments_lexer": "ipython3",
   "version": "3.7.6"
  }
 },
 "nbformat": 4,
 "nbformat_minor": 4
}
