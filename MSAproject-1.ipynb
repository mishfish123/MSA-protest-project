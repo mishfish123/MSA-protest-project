{
 "cells": [
  {
   "cell_type": "markdown",
   "metadata": {},
   "source": [
    "### Automating protest categories (MSA 2020) \n",
    "Using machine learning to predict protester demands based on protest descriptions. "
   ]
  },
  {
   "cell_type": "markdown",
   "metadata": {},
   "source": [
    "In light of recent civil unrest, including #blacklivesmatter and #metoo movements,it has never been more important for people in positions of power to listen voices.\n",
    "\n",
    "<p> For my microsoft student accelerator project, I will be trying to develop machine learning model which can read descriptions about government protests, and construct a suitable label for the event.\n",
    "\n",
    "<p> Along with certain RSS scraping methods, I would like to extend this project to automatically label incoming news articles in accordance to protest demands. I would also love to have more comprehesive labels to describe each event, to provide insightful analysis of what specifically demands are around the world, to see if there are any similarities and differences. "
   ]
  },
  {
   "cell_type": "markdown",
   "metadata": {},
   "source": [
    "### Packages required"
   ]
  },
  {
   "cell_type": "code",
   "execution_count": 117,
   "metadata": {},
   "outputs": [],
   "source": [
    "#import used packages\n",
    "import pandas as pd\n",
    "import numpy as np\n",
    "import tensorflow as tf\n",
    "from sklearn.model_selection import train_test_split\n",
    "from keras.preprocessing.text import Tokenizer\n",
    "from keras.preprocessing.sequence import pad_sequences\n",
    "import matplotlib.pyplot as plt\n",
    "from keras.preprocessing.text import Tokenizer\n",
    "from keras.preprocessing.sequence import pad_sequences\n",
    "from keras.models import Sequential\n",
    "from keras.layers import Dense, Embedding, LSTM, SpatialDropout1D\n",
    "from sklearn.model_selection import train_test_split\n",
    "from keras.utils.np_utils import to_categorical\n",
    "from keras.callbacks import EarlyStopping\n",
    "from keras.layers import Dropout\n",
    "import keras_metrics\n",
    "from keras.regularizers import l2\n",
    "from nltk.corpus import stopwords\n",
    "\n"
   ]
  },
  {
   "cell_type": "markdown",
   "metadata": {},
   "source": [
    "### The Dataset"
   ]
  },
  {
   "cell_type": "markdown",
   "metadata": {},
   "source": [
    "I will be using a dataset collected by the Mass Mobilisation data project. The dataset consists of protest events with over 50 or more protesters,  that cover 162 countries between 1990 and 2018. Each event has been extensively characterised based on country, date, protester demands and state responses. Information about these events has mostly been taken from news source. Each event also consists of a 200 word short description of the event that took place. The focus of this project will be based on trying to automatically label these descriptions based on protester demands. You can gain further details about the demands using the following link. "
   ]
  },
  {
   "cell_type": "markdown",
   "metadata": {},
   "source": [
    "The protest demands were categorised into 8 categories, as inspected in the following code. \n",
    "\n",
    "* political behavior, process\n",
    "* land farm issue'police brutality\n",
    "* labor wage dispute\n",
    "* price increases, tax policy\n",
    "* social restrictions \n",
    "* removal of politicans\n",
    "* other or ''"
   ]
  },
  {
   "cell_type": "code",
   "execution_count": 118,
   "metadata": {
    "scrolled": true
   },
   "outputs": [
    {
     "name": "stdout",
     "output_type": "stream",
     "text": [
      "All columns within the dataset\n",
      "['id' 'country' 'ccode' 'year' 'region' 'protest' 'protestnumber'\n",
      " 'startday' 'startmonth' 'startyear' 'endday' 'endmonth' 'endyear'\n",
      " 'protesterviolence' 'location' 'participants_category' 'participants'\n",
      " 'protesteridentity' 'protesterdemand1' 'protesterdemand2'\n",
      " 'protesterdemand3' 'protesterdemand4' 'stateresponse1' 'stateresponse2'\n",
      " 'stateresponse3' 'stateresponse4' 'stateresponse5' 'stateresponse6'\n",
      " 'stateresponse7' 'sources' 'notes']\n",
      "Unique protester demands: \n",
      "['political behavior, process' 'land farm issue' 'police brutality'\n",
      " 'labor wage dispute' 'price increases, tax policy' ''\n",
      " 'social restrictions' 'removal of politician']\n"
     ]
    }
   ],
   "source": [
    "#move strata dataset from the project into a pandas dataframes\n",
    "og_dataset = pd.read_stata(\"mmALL_020619_v15.dta\")\n",
    "\n",
    "\n",
    "#show all columns in dataset \n",
    "print(\"All columns within the dataset\")\n",
    "print(og_dataset.columns.values)\n",
    "\n",
    "#shows all unique values in the protesterdemand column of the main dataset\n",
    "print(\"Unique protester demands: \")\n",
    "print(og_dataset.protesterdemand1.unique())\n",
    "\n"
   ]
  },
  {
   "cell_type": "markdown",
   "metadata": {},
   "source": [
    "Even though there are more than one protester demand catergory for some events, after an intial inspection, out of the 15,000 events in the data set at bit more than 2000 had more than one protester demand. Therefore I omitted them from the dataset. I also simplified the dataframe so that it only had to columns, the protester demand label and the description or notes in the dataset, to get the data ready for data processing. "
   ]
  },
  {
   "cell_type": "code",
   "execution_count": 119,
   "metadata": {},
   "outputs": [
    {
     "name": "stdout",
     "output_type": "stream",
     "text": [
      "Columns left\n"
     ]
    },
    {
     "data": {
      "text/html": [
       "<div>\n",
       "<style scoped>\n",
       "    .dataframe tbody tr th:only-of-type {\n",
       "        vertical-align: middle;\n",
       "    }\n",
       "\n",
       "    .dataframe tbody tr th {\n",
       "        vertical-align: top;\n",
       "    }\n",
       "\n",
       "    .dataframe thead th {\n",
       "        text-align: right;\n",
       "    }\n",
       "</style>\n",
       "<table border=\"1\" class=\"dataframe\">\n",
       "  <thead>\n",
       "    <tr style=\"text-align: right;\">\n",
       "      <th></th>\n",
       "      <th>protesterdemand1</th>\n",
       "      <th>notes</th>\n",
       "    </tr>\n",
       "  </thead>\n",
       "  <tbody>\n",
       "    <tr>\n",
       "      <th>1</th>\n",
       "      <td>political behavior, process</td>\n",
       "      <td>protestors were only identified as  young peop...</td>\n",
       "    </tr>\n",
       "    <tr>\n",
       "      <th>2</th>\n",
       "      <td>political behavior, process</td>\n",
       "      <td>THE Queen, after calling on Canadians to rema...</td>\n",
       "    </tr>\n",
       "    <tr>\n",
       "      <th>3</th>\n",
       "      <td>land farm issue</td>\n",
       "      <td>Canada s federal government has agreed to acq...</td>\n",
       "    </tr>\n",
       "    <tr>\n",
       "      <th>4</th>\n",
       "      <td>political behavior, process</td>\n",
       "      <td>Protests were directed against the state due t...</td>\n",
       "    </tr>\n",
       "    <tr>\n",
       "      <th>5</th>\n",
       "      <td>police brutality</td>\n",
       "      <td>Canadian army troops today fired tear gas int...</td>\n",
       "    </tr>\n",
       "  </tbody>\n",
       "</table>\n",
       "</div>"
      ],
      "text/plain": [
       "              protesterdemand1  \\\n",
       "1  political behavior, process   \n",
       "2  political behavior, process   \n",
       "3              land farm issue   \n",
       "4  political behavior, process   \n",
       "5             police brutality   \n",
       "\n",
       "                                               notes  \n",
       "1  protestors were only identified as  young peop...  \n",
       "2   THE Queen, after calling on Canadians to rema...  \n",
       "3   Canada s federal government has agreed to acq...  \n",
       "4  Protests were directed against the state due t...  \n",
       "5   Canadian army troops today fired tear gas int...  "
      ]
     },
     "execution_count": 119,
     "metadata": {},
     "output_type": "execute_result"
    }
   ],
   "source": [
    "#rm samples from dataset which has more than one protester demand \n",
    "og_dataset = og_dataset[og_dataset.protesterdemand2 == \"\"]\n",
    "#rm all columns except protesters and the description of the mass mobilisation event \n",
    "simp_dataset = og_dataset.loc[:, og_dataset.columns.intersection(['protesterdemand1','notes'])]\n",
    "print(\"Columns left\")\n",
    "simp_dataset.head()"
   ]
  },
  {
   "cell_type": "markdown",
   "metadata": {},
   "source": [
    "Generally speaking I did not think the descriptions composed of many meaningless of useless words, aside from stop words. Therefore, the only thing I decided to do was remove the stop words in my description, and change all capitalised words into non-capitalised words. This was done with the following function. "
   ]
  },
  {
   "cell_type": "markdown",
   "metadata": {},
   "source": [
    "I then wanted to split my data into test, validation and training sets. "
   ]
  },
  {
   "cell_type": "markdown",
   "metadata": {},
   "source": [
    "Next, I cleaned the text for frequent useless words like \"I\" , \"she\" which doesn't add any meaning to the data."
   ]
  },
  {
   "cell_type": "code",
   "execution_count": 126,
   "metadata": {},
   "outputs": [],
   "source": [
    "# clean text to remove useless words with no added meaning (stop words)\n",
    "# non-capitalise words \n",
    "\n",
    "simp_dataset.notes = simp_dataset.notes.reset_index(drop=True)\n",
    "\n",
    "def clean_text(text):\n",
    "    if type(text) == float:\n",
    "        return text\n",
    "    text = ' '.join(word for word in text.split() if word not in STOPWORDS) # remove stopwors from text\n",
    "    text = text.lower()\n",
    "    return text\n",
    "\n",
    "simp_dataset.notes = simp_dataset.notes.apply(clean_text)"
   ]
  },
  {
   "cell_type": "code",
   "execution_count": 127,
   "metadata": {},
   "outputs": [
    {
     "name": "stdout",
     "output_type": "stream",
     "text": [
      "(12000, 2)\n",
      "(1180, 2)\n"
     ]
    }
   ],
   "source": [
    "og_dataset = og_dataset[og_dataset.protesterdemand2 == \"\"]\n",
    "simp_dataset = og_dataset.loc[:, og_dataset.columns.intersection(['protesterdemand1','notes'])]\n",
    "simp_dataset.head()\n",
    "non_test = simp_dataset.iloc[ :12000,:]\n",
    "test = simp_dataset.iloc[12000:,:]\n",
    "print(non_test.shape)\n",
    "print(test.shape)"
   ]
  },
  {
   "cell_type": "markdown",
   "metadata": {},
   "source": [
    " After that, I tokenised and paded each protest description using keras's tokeniser and padding functions. "
   ]
  },
  {
   "cell_type": "code",
   "execution_count": 128,
   "metadata": {},
   "outputs": [
    {
     "name": "stdout",
     "output_type": "stream",
     "text": [
      "[1, 1940, 33, 219, 7, 7971, 3, 1370, 415, 2744, 27, 5, 1284, 416, 1205, 4574, 45, 3, 845, 3445, 2463, 8, 88, 2169, 702, 6, 672, 449, 608, 57, 12601, 34, 989, 354, 44, 3, 663, 1, 1940, 12602, 166, 6, 500, 4, 12603, 4574, 10, 693, 29, 424, 2464, 11, 8961, 12604, 1, 990, 193, 96, 5, 1877, 2964, 1254, 9, 35, 239, 1116, 12601, 2745, 1, 958, 62, 91, 2, 1, 16960, 4357, 2307, 13, 113, 30, 7972, 1, 505, 16, 6, 7211, 797, 162, 6, 229, 15, 99, 1, 2170, 1, 1940, 8, 3041, 156, 2, 6, 1054, 2414, 1140, 2463, 64, 19, 428, 7973, 11, 35, 239, 112, 2, 1, 1478, 16961, 16962, 57, 2, 74, 6603, 4, 1, 16963, 437, 16964, 1070, 915, 26, 162, 6, 5103, 36, 4791, 61, 85, 1, 6125, 16965, 500, 4, 12603, 6, 51, 2, 2598, 31, 2015, 327, 157, 1, 5393, 1717, 22, 1, 50, 2, 5393]\n"
     ]
    }
   ],
   "source": [
    "\"\"\"Took training data and tokenised each protest description \n",
    "   with Kera's tokeniser tool \"\"\"\n",
    "train_clean = [review for review in non_test.notes]\n",
    "tokenizer = Tokenizer()\n",
    "tokenizer.fit_on_texts(train_clean)\n",
    "train_seq = tokenizer.texts_to_sequences(train_clean)\n",
    "word_index = tokenizer.word_index\n",
    "print(train_seq[1])\n",
    "\n"
   ]
  },
  {
   "cell_type": "code",
   "execution_count": 129,
   "metadata": {},
   "outputs": [
    {
     "name": "stdout",
     "output_type": "stream",
     "text": [
      "The average length of each piece at different percentiles\n",
      "111.0\n",
      "128.0\n",
      "155.0\n",
      "202.0\n"
     ]
    }
   ],
   "source": [
    "\"\"\"find the length of views by inspecting the length of view at the\n",
    "80th , 85th, 90th and 95th percentile\"\"\"\n",
    "#create a new dataframe containing lengths of each protest description\n",
    "lengths = pd.DataFrame(map(len,train_seq), columns=['counts'])\n",
    "\"\"\"determine the length at the 80th, 85th, 90th and 95th percentile\n",
    "to figure out the average length of each protest de\"\"\"\n",
    "lengths.counts.describe()\n",
    "print(\"The average length of each piece at different percentiles\")\n",
    "print(np.percentile(lengths.counts, 80))\n",
    "print(np.percentile(lengths.counts, 85))\n",
    "print(np.percentile(lengths.counts, 90))\n",
    "print(np.percentile(lengths.counts, 95))\n",
    "#based on the longest average review length, pad sequences. \n",
    "max_review_length = 202\n",
    "train_pad = pad_sequences(train_seq, maxlen = max_review_length)"
   ]
  },
  {
   "cell_type": "markdown",
   "metadata": {},
   "source": [
    "I then turned first protesterdemand labels into vectorised labels. "
   ]
  },
  {
   "cell_type": "code",
   "execution_count": 130,
   "metadata": {},
   "outputs": [
    {
     "name": "stdout",
     "output_type": "stream",
     "text": [
      "[[0 0 0 ... 0 0 0]\n",
      " [0 0 0 ... 0 0 0]\n",
      " [0 0 1 ... 0 0 0]\n",
      " ...\n",
      " [0 0 0 ... 0 0 0]\n",
      " [0 0 0 ... 0 1 0]\n",
      " [0 0 0 ... 0 0 0]]\n",
      "Shape of label tensor: (12000, 8)\n",
      "(10200, 202)\n",
      "(1800, 202)\n"
     ]
    }
   ],
   "source": [
    "Y = pd.get_dummies(non_test['protesterdemand1']).values\n",
    "print(Y)\n",
    "\n",
    "\n",
    "print('Shape of label tensor:', Y.shape)\n",
    "x_train, x_valid, y_train, y_valid = train_test_split(train_pad,Y, test_size = 0.15, random_state = 2)\n",
    "print(x_train.shape)\n",
    "print(x_valid.shape)\n"
   ]
  },
  {
   "cell_type": "markdown",
   "metadata": {},
   "source": [
    "I then started to train my model with the following parameters: "
   ]
  },
  {
   "cell_type": "code",
   "execution_count": 179,
   "metadata": {
    "scrolled": true
   },
   "outputs": [
    {
     "name": "stderr",
     "output_type": "stream",
     "text": [
      "/Users/michellewong/opt/anaconda3/lib/python3.7/site-packages/tensorflow_core/python/framework/indexed_slices.py:424: UserWarning: Converting sparse IndexedSlices to a dense Tensor of unknown shape. This may consume a large amount of memory.\n",
      "  \"Converting sparse IndexedSlices to a dense Tensor of unknown shape. \"\n"
     ]
    },
    {
     "name": "stdout",
     "output_type": "stream",
     "text": [
      "Train on 10200 samples, validate on 1800 samples\n",
      "Epoch 1/4\n",
      "10200/10200 [==============================] - 144s 14ms/step - loss: 1.2554 - accuracy: 0.6941 - val_loss: 1.1701 - val_accuracy: 0.6950\n",
      "Epoch 2/4\n",
      "10200/10200 [==============================] - 142s 14ms/step - loss: 1.0384 - accuracy: 0.7212 - val_loss: 1.0947 - val_accuracy: 0.7044\n",
      "Epoch 3/4\n",
      "10200/10200 [==============================] - 150s 15ms/step - loss: 0.8812 - accuracy: 0.7504 - val_loss: 1.0835 - val_accuracy: 0.7206\n",
      "Epoch 4/4\n",
      "10200/10200 [==============================] - 148s 14ms/step - loss: 0.7315 - accuracy: 0.7884 - val_loss: 1.0394 - val_accuracy: 0.7111\n"
     ]
    }
   ],
   "source": [
    "model = Sequential()\n",
    "model.add(Embedding(30000, 100, input_length=train_pad.shape[1]))\n",
    "model.add(SpatialDropout1D(0.2))\n",
    "model.add(LSTM(100, dropout=0.2, recurrent_dropout=0.2))\n",
    "model.add(Dense(8, kernel_regularizer=l2(0.01), bias_regularizer=l2(0.01),activation='softmax'))       \n",
    "model.compile(loss='categorical_crossentropy', optimizer='adam', metrics=['accuracy'])\n",
    "          \n",
    "epochs = 2\n",
    "batch_size = 64\n",
    "\n",
    "history = model.fit(x_train, y_train, validation_data = (x_valid, y_valid), epochs=epochs, batch_size=batch_size,validation_split=0.1,callbacks=[EarlyStopping(monitor='val_loss', patience=3, min_delta=0.0001)])"
   ]
  },
  {
   "cell_type": "code",
   "execution_count": 180,
   "metadata": {
    "scrolled": true
   },
   "outputs": [
    {
     "data": {
      "image/png": "[encoded data removed]",
      "text/plain": [
       "<Figure size 432x288 with 1 Axes>"
      ]
     },
     "metadata": {
      "needs_background": "light"
     },
     "output_type": "display_data"
    },
    {
     "data": {
      "image/png": "[encoded data removed]",
      "text/plain": [
       "<Figure size 432x288 with 1 Axes>"
      ]
     },
     "metadata": {
      "needs_background": "light"
     },
     "output_type": "display_data"
    }
   ],
   "source": [
    "plt.plot(history.history['loss'], label='train')\n",
    "plt.plot(history.history['val_loss'], label='validation')\n",
    "plt.legend()\n",
    "plt.show();\n",
    "\n",
    "plt.title('Accuracy')\n",
    "plt.plot(history.history['accuracy'], label='train')\n",
    "plt.plot(history.history['val_accuracy'], label='validation')\n",
    "plt.legend()\n",
    "plt.show();"
   ]
  },
  {
   "cell_type": "code",
   "execution_count": 181,
   "metadata": {},
   "outputs": [
    {
     "name": "stdout",
     "output_type": "stream",
     "text": [
      "[4, 2, 3, 1, 5, 0, 7, 6]\n",
      "4\n",
      "predicted label:  political behavior, process\n",
      "actual label:  political behavior, process\n",
      "Accuracy: 78.79%\n"
     ]
    }
   ],
   "source": [
    "test_clean = []\n",
    "for review in test.notes:\n",
    "    test_clean.append(review)\n",
    "tokenizer = Tokenizer()\n",
    "tokenizer.fit_on_texts(test_clean)\n",
    "test_seq = tokenizer.texts_to_sequences(test_clean)\n",
    "word_index = tokenizer.word_index\n",
    "lengths = []\n",
    "for review in test_seq:\n",
    "    lengths.append(len(review))\n",
    "lengths = pd.DataFrame(lengths, columns=['counts'])\n",
    "lengths.counts.describe()\n",
    "max_review_length = 202\n",
    "test_pad = pad_sequences(train_seq, maxlen = max_review_length)\n",
    "Y = pd.get_dummies(non_test['protesterdemand1']).values\n",
    "\n",
    "\n",
    "index_of_label = []\n",
    "labels = pd.get_dummies(og_dataset.protesterdemand1.unique()).values\n",
    "for i in labels:\n",
    "    index_of_label.append(np.argmax(i))\n",
    "\n",
    "print(index_of_label)\n",
    "\n",
    "test_number = 10\n",
    "pred = model.predict(test_pad[[test_number]])\n",
    "\n",
    "#test with specific examples \n",
    "labels = ['political behavior, process','land farm issue','police brutality',\n",
    " 'labor wage dispute','price increases, tax policy','',\n",
    " 'social restrictions','removal of politician']\n",
    "print(np.argmax(pred))\n",
    "print(\"predicted label: \",labels[index_of_label.index(int(np.argmax(pred)))])\n",
    "print(\"actual label: \",test.iloc[test_number, 0])\n",
    "\n",
    "\n",
    "#test based on whole dataset accuracy \n",
    "\n",
    "scores = model.evaluate(test_pad, Y, verbose=0)\n",
    "print(\"Accuracy: %.2f%%\" % (scores[1]*100))\n"
   ]
  },
  {
   "cell_type": "markdown",
   "metadata": {},
   "source": [
    "The model doesn't seem to be very accurate and tended to overfit the data after epoch 2, even when regularisation and drop out parameters has been implemented. This is likely because some of the protest data had very short descriptions and descriptions weren't very detailed. Perhaps a way to improve the model could be use the articles which the events were based, however some were too old to have the correct descriptions. "
   ]
  }
 ],
 "metadata": {
  "kernelspec": {
   "display_name": "Python 3",
   "language": "python",
   "name": "python3"
  },
  "language_info": {
   "codemirror_mode": {
    "name": "ipython",
    "version": 3
   },
   "file_extension": ".py",
   "mimetype": "text/x-python",
   "name": "python",
   "nbconvert_exporter": "python",
   "pygments_lexer": "ipython3",
   "version": "3.7.6"
  }
 },
 "nbformat": 4,
 "nbformat_minor": 4
}
